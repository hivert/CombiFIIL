{
 "cells": [
  {
   "cell_type": "markdown",
   "metadata": {},
   "source": [
    "# Génération récursive\n",
    "\n",
    "Ce TP est une introduction à la notion de génération récursive d'objets combinatoires.\n",
    "\n",
    "## Le Yield python\n",
    "\n",
    "Cette section est une introduction à la notion de générateurs en Python qui nous sera utilie par la suite. \n",
    "\n",
    "Vous avez vu en cours le principe d'un *generateur*, le langage python possède une instruction très pratique pour créer des générateurs : *yield*."
   ]
  },
  {
   "cell_type": "code",
   "execution_count": null,
   "metadata": {
    "collapsed": true
   },
   "outputs": [],
   "source": [
    "def stupid_generator(end):\n",
    "    i = 0\n",
    "    while i < end:\n",
    "        yield i\n",
    "        i+=1"
   ]
  },
  {
   "cell_type": "code",
   "execution_count": null,
   "metadata": {},
   "outputs": [],
   "source": [
    "stupid_generator(3)"
   ]
  },
  {
   "cell_type": "markdown",
   "metadata": {},
   "source": [
    "Le but de la fonction *stupid_generator* est de lister les entiers inférieurs à *end*. Cependant, elle ne retourne pas directement la liste mais un générateur sur cette liste. Comparez avec la fonction suivante."
   ]
  },
  {
   "cell_type": "code",
   "execution_count": null,
   "metadata": {
    "collapsed": true
   },
   "outputs": [],
   "source": [
    "def stupid_list(end):\n",
    "    i = 0\n",
    "    result = []\n",
    "    while i < end:\n",
    "        result.append(i)\n",
    "        i+=1\n",
    "    return result"
   ]
  },
  {
   "cell_type": "code",
   "execution_count": null,
   "metadata": {},
   "outputs": [],
   "source": [
    "stupid_list(3)"
   ]
  },
  {
   "cell_type": "markdown",
   "metadata": {},
   "source": [
    "Pour récupérer les objets de *stupid_generator*, il faut le transformer explicitement en liste ou alors parcourir les objets à travers une boucle."
   ]
  },
  {
   "cell_type": "code",
   "execution_count": null,
   "metadata": {
    "collapsed": true
   },
   "outputs": [],
   "source": [
    "it = stupid_generator(3)"
   ]
  },
  {
   "cell_type": "code",
   "execution_count": null,
   "metadata": {},
   "outputs": [],
   "source": [
    "it.next()"
   ]
  },
  {
   "cell_type": "code",
   "execution_count": null,
   "metadata": {},
   "outputs": [],
   "source": [
    "list(stupid_generator(3))"
   ]
  },
  {
   "cell_type": "code",
   "execution_count": null,
   "metadata": {},
   "outputs": [],
   "source": [
    "for v in stupid_generator(3):\n",
    "    print v"
   ]
  },
  {
   "cell_type": "markdown",
   "metadata": {},
   "source": [
    "**Remarque :** les instructions de stupid_generator ne sont pas exécutées lors de l'appel initial de la fonction mais seulement lorsque l'on commence à parcourir le générateur pour récupérer le premier objet. L'instruction yield stoppe alors l'exécution et retourne le premier objet. Si l'on demande un dexuième objet, l'exécution sera reprise là où elle a été arrétée."
   ]
  },
  {
   "cell_type": "code",
   "execution_count": null,
   "metadata": {
    "collapsed": true
   },
   "outputs": [],
   "source": [
    "def test_generator():\n",
    "    print \"Cette instruction est exécutée lors de l'appel du premier objet\"\n",
    "    yield 1\n",
    "    print \"Cette instruction est exécutée lors de l'appel du deuxième objet\"\n",
    "    yield 2\n",
    "    print \"Cette instruction est exécutée lors de l'appel du troisième objet\"\n",
    "    yield 3"
   ]
  },
  {
   "cell_type": "code",
   "execution_count": null,
   "metadata": {
    "collapsed": true
   },
   "outputs": [],
   "source": [
    "it = test_generator()"
   ]
  },
  {
   "cell_type": "code",
   "execution_count": null,
   "metadata": {},
   "outputs": [],
   "source": [
    "it.next()"
   ]
  },
  {
   "cell_type": "code",
   "execution_count": null,
   "metadata": {},
   "outputs": [],
   "source": [
    "it.next()"
   ]
  },
  {
   "cell_type": "code",
   "execution_count": null,
   "metadata": {},
   "outputs": [],
   "source": [
    "it.next()"
   ]
  },
  {
   "cell_type": "code",
   "execution_count": null,
   "metadata": {},
   "outputs": [],
   "source": [
    "it.next()"
   ]
  },
  {
   "cell_type": "markdown",
   "metadata": {},
   "source": [
    "**Exercice : implanter la fonction suivante dont le but est de générer les n premiers nombre de Fibonacci** La suite de fibonacci est définie par :\n",
    "\n",
    "$f_0 = 0$\n",
    "\n",
    "$f_1 = 1$\n",
    "\n",
    "$f_n = f_{n-1} + f_{n-2}$ pour $n \\geq 2$."
   ]
  },
  {
   "cell_type": "code",
   "execution_count": null,
   "metadata": {
    "collapsed": true
   },
   "outputs": [],
   "source": [
    "def first_fibonacci_generator(n):\n",
    "    \"\"\"\n",
    "    Return a generator for the first ``n`` Fibonacci numbers\n",
    "    \"\"\"\n",
    "    # write code here"
   ]
  },
  {
   "cell_type": "code",
   "execution_count": null,
   "metadata": {
    "collapsed": true
   },
   "outputs": [],
   "source": []
  },
  {
   "cell_type": "code",
   "execution_count": null,
   "metadata": {
    "collapsed": true
   },
   "outputs": [],
   "source": []
  },
  {
   "cell_type": "markdown",
   "metadata": {},
   "source": [
    "Votre fonction doit passer les tests suivants :"
   ]
  },
  {
   "cell_type": "code",
   "execution_count": null,
   "metadata": {
    "collapsed": true
   },
   "outputs": [],
   "source": [
    "import types\n",
    "assert(type(first_fibonacci_generator(3)) == types.GeneratorType)\n",
    "assert(list(first_fibonacci_generator(0)) == [])\n",
    "assert(list(first_fibonacci_generator(1)) == [0])\n",
    "assert(list(first_fibonacci_generator(2)) == [0,1])\n",
    "assert(list(first_fibonacci_generator(8)) == [0,1,1,2,3,5,8,13])"
   ]
  },
  {
   "cell_type": "markdown",
   "metadata": {},
   "source": [
    "Dans les cas précédent, le générateur s'arrête de lui même au bout d'un certain temps. Cependant, il est aussi possible d'écrire des générateurs infinis. Dans ce cas, la responsabilité de l'arrêt revient à la l'appelant."
   ]
  },
  {
   "cell_type": "code",
   "execution_count": null,
   "metadata": {
    "collapsed": true
   },
   "outputs": [],
   "source": [
    "def powers2():\n",
    "    v = 1\n",
    "    while True:\n",
    "        yield v\n",
    "        v*=2"
   ]
  },
  {
   "cell_type": "code",
   "execution_count": null,
   "metadata": {},
   "outputs": [],
   "source": [
    "for v in powers2():\n",
    "    print v\n",
    "    if v > 1000000:\n",
    "        break"
   ]
  },
  {
   "cell_type": "markdown",
   "metadata": {},
   "source": [
    "**Exercice: Implantez les fonctions suivantes**"
   ]
  },
  {
   "cell_type": "code",
   "execution_count": null,
   "metadata": {
    "collapsed": true
   },
   "outputs": [],
   "source": [
    "def fibonacci_generator():\n",
    "    \"\"\"\n",
    "    Return an infinite generator for Fibonacci numbers\n",
    "    \"\"\"\n",
    "    # write code here"
   ]
  },
  {
   "cell_type": "code",
   "execution_count": null,
   "metadata": {
    "collapsed": true
   },
   "outputs": [],
   "source": [
    "it = fibonacci_generator()"
   ]
  },
  {
   "cell_type": "code",
   "execution_count": null,
   "metadata": {},
   "outputs": [],
   "source": [
    "it.next()"
   ]
  },
  {
   "cell_type": "code",
   "execution_count": null,
   "metadata": {
    "collapsed": true
   },
   "outputs": [],
   "source": [
    "def fibonacci_finder(n):\n",
    "    \"\"\"\n",
    "    Return the first Fibonacci number greater than or equal to n\n",
    "    \"\"\"\n",
    "    # write code here"
   ]
  },
  {
   "cell_type": "code",
   "execution_count": null,
   "metadata": {
    "collapsed": true
   },
   "outputs": [],
   "source": []
  },
  {
   "cell_type": "code",
   "execution_count": null,
   "metadata": {
    "collapsed": true
   },
   "outputs": [],
   "source": [
    "assert(fibonacci_finder(10) == 13)\n",
    "assert(fibonacci_finder(100) == 144)\n",
    "assert(fibonacci_finder(1000) == 1597)\n",
    "assert(fibonacci_finder(1000000) == 1346269)"
   ]
  },
  {
   "cell_type": "markdown",
   "metadata": {},
   "source": [
    "## Mots binaires\n",
    "\n",
    "Nous allons nous intéresser à la génération récursive de mots binaires vérifiants certaines propriétés. Nous allons représenter les mots binaires par des chaines de carcatères, par exemples."
   ]
  },
  {
   "cell_type": "code",
   "execution_count": null,
   "metadata": {
    "collapsed": true
   },
   "outputs": [],
   "source": [
    "binaires1 = [\"0\", \"1\"]\n",
    "binaires2 = [\"00\", \"01\", \"10\", \"11\"]"
   ]
  },
  {
   "cell_type": "markdown",
   "metadata": {},
   "source": [
    "Les fonctions suivantes génèrent les mots binaires de taille 0,1, et 2."
   ]
  },
  {
   "cell_type": "code",
   "execution_count": null,
   "metadata": {
    "collapsed": true
   },
   "outputs": [],
   "source": [
    "def binary_word_generator0():\n",
    "    yield \"\"\n",
    "    \n",
    "def binary_word_generator1():\n",
    "    yield \"0\"\n",
    "    yield \"1\"\n",
    "    \n",
    "def binary_word_generator2():\n",
    "    for b in binary_word_generator1():\n",
    "        yield b + \"0\"\n",
    "        yield b + \"1\""
   ]
  },
  {
   "cell_type": "code",
   "execution_count": null,
   "metadata": {},
   "outputs": [],
   "source": [
    "list(binary_word_generator2())"
   ]
  },
  {
   "cell_type": "markdown",
   "metadata": {},
   "source": [
    "En vous inspirant des fonctions précédentes (mais sans les utiliser) ou en reprenant la fonction du cours, implantez de façon récursive la fonction suivante qui engendre l'ensemble des mots binaires d'une taille donnée."
   ]
  },
  {
   "cell_type": "code",
   "execution_count": null,
   "metadata": {
    "collapsed": true
   },
   "outputs": [],
   "source": [
    "def binary_word_generator(n):\n",
    "    \"\"\"\n",
    "    Return a generator on binary words of size n in lexicographic order\n",
    "    \n",
    "    Input :\n",
    "        - n, the length of the words\n",
    "    \"\"\"\n",
    "    # write code here"
   ]
  },
  {
   "cell_type": "code",
   "execution_count": null,
   "metadata": {},
   "outputs": [],
   "source": [
    "list(binary_word_generator(3))"
   ]
  },
  {
   "cell_type": "code",
   "execution_count": null,
   "metadata": {
    "collapsed": true
   },
   "outputs": [],
   "source": [
    "# tests\n",
    "import types\n",
    "assert(type(binary_word_generator(0)) == types.GeneratorType)\n",
    "assert(list(binary_word_generator(0)) == [''])\n",
    "assert(list(binary_word_generator(1)) == ['0', '1'])\n",
    "assert(list(binary_word_generator(2)) == ['00', '01', '10', '11'])\n",
    "assert(list(binary_word_generator(3)) == ['000', '001', '010', '011', '100', '101', '110', '111'])\n",
    "assert(len(list(binary_word_generator(4))) == 16)\n",
    "assert(len(list(binary_word_generator(7))) == 128)"
   ]
  },
  {
   "cell_type": "code",
   "execution_count": null,
   "metadata": {
    "collapsed": true
   },
   "outputs": [],
   "source": []
  },
  {
   "cell_type": "code",
   "execution_count": null,
   "metadata": {
    "collapsed": true
   },
   "outputs": [],
   "source": []
  },
  {
   "cell_type": "markdown",
   "metadata": {},
   "source": [
    "**Sur le même modèle, implanter la fonction suivante. (un peu plus dur)**\n",
    "\n",
    "Posez-vous la question de cette façon : si j'ai un mot de taille $n$ qui termine par 0 et qui contient $k$ fois 1, combien de 1 contenait le mot taille $n-1$ à partir duquel il a été créé ? De même s'il termine par 1.\n",
    "\n",
    "*Remarque : l'ordre des mots n'est plus imposé*"
   ]
  },
  {
   "cell_type": "code",
   "execution_count": null,
   "metadata": {
    "collapsed": true
   },
   "outputs": [],
   "source": [
    "def binary_kword_generator(n,k):\n",
    "    \"\"\"\n",
    "    Return a generator on binary words of size n such that each word contains exacty k occurences of 1\n",
    "    \n",
    "    Input :\n",
    "    \n",
    "    - n, the size of the words\n",
    "    - k, the number of 1\n",
    "    \"\"\"\n",
    "    # write code here"
   ]
  },
  {
   "cell_type": "code",
   "execution_count": null,
   "metadata": {},
   "outputs": [],
   "source": [
    "list(binary_kword_generator(4,2))"
   ]
  },
  {
   "cell_type": "code",
   "execution_count": null,
   "metadata": {
    "collapsed": true
   },
   "outputs": [],
   "source": []
  },
  {
   "cell_type": "code",
   "execution_count": null,
   "metadata": {
    "collapsed": true
   },
   "outputs": [],
   "source": [
    "# tests\n",
    "import types\n",
    "assert(type(binary_kword_generator(0,0)) == types.GeneratorType)\n",
    "assert(list(binary_kword_generator(0,0)) == [''])\n",
    "assert(list(binary_kword_generator(0,1)) == [])\n",
    "assert(list(binary_kword_generator(1,1)) == ['1'])\n",
    "assert(list(binary_kword_generator(4,4)) == ['1111'])\n",
    "assert(list(binary_kword_generator(4,0)) == ['0000'])\n",
    "assert(set(binary_kword_generator(4,2)) == set(['0011', '0101', '1001', '0110', '1010', '1100']))\n",
    "assert(len(list(binary_kword_generator(7,3))) == 35)"
   ]
  },
  {
   "cell_type": "markdown",
   "metadata": {},
   "source": [
    "**Et pour finir**\n",
    "\n",
    "On appelle un *prefixe de Dyck* un mot binaire de taille $n$ avec $k$ occurences de 1, tel que dans tout préfixe, le nombre de 1 soit supérieur ou égal au nombre de 0.\n",
    "\n",
    "Par exemple : $1101$ est un préfixe de Dyck pour $n=4$ et $k=3$. Mais $1001$ n'en est pas un car dans le prefixe $100$ le nombre de 0 est supérieur au nombre de 1."
   ]
  },
  {
   "cell_type": "code",
   "execution_count": null,
   "metadata": {
    "collapsed": true
   },
   "outputs": [],
   "source": [
    "def dyck_prefix_generator(n,k):\n",
    "    \"\"\"\n",
    "    Return a generator on binary words of size n such that each word contains exacty k occurences of 1, \n",
    "    and in any prefix, the number of 1 is greater than or equal to the number of 0.\n",
    "    \n",
    "    Input :\n",
    "    \n",
    "    - n, the size of the words\n",
    "    - k, the number of 1\n",
    "    \"\"\"\n",
    "    # write code here"
   ]
  },
  {
   "cell_type": "code",
   "execution_count": null,
   "metadata": {},
   "outputs": [],
   "source": [
    "list(dyck_prefix_generator(4,2))"
   ]
  },
  {
   "cell_type": "code",
   "execution_count": null,
   "metadata": {
    "collapsed": true
   },
   "outputs": [],
   "source": [
    "assert(len(list(dyck_prefix_generator(0,0))) == 1)\n",
    "assert(len(list(dyck_prefix_generator(0,1))) == 0)\n",
    "assert(len(list(dyck_prefix_generator(1,0))) == 0)\n",
    "assert(list(dyck_prefix_generator(1,1)) == ['1'])\n",
    "assert(set(dyck_prefix_generator(3,2)) == set([\"110\",\"101\"] ))\n",
    "assert(len(set(dyck_prefix_generator(10,5))) == 42)"
   ]
  },
  {
   "cell_type": "markdown",
   "metadata": {},
   "source": [
    "Exécutez la ligne suivante et copiez la liste des nombres obentus dans Google."
   ]
  },
  {
   "cell_type": "code",
   "execution_count": null,
   "metadata": {},
   "outputs": [],
   "source": [
    "[len(set(dyck_prefix_generator(2*n, n))) for n in xrange(8)]"
   ]
  },
  {
   "cell_type": "markdown",
   "metadata": {},
   "source": [
    "## Aller plus loin\n",
    "\n",
    "Comme vous avez pu le voir, ces nombres comptent de nombreuses familles d'objets combinatoires.\n",
    "\n",
    " * Quelle famille d'objets avons-nous implantée ?\n",
    " * Pouvez-vous implanter les bijections entre cette famille et d'autres familles combinatoires telles que :\n",
    "     * [les partitions non croisées](https://en.wikipedia.org/wiki/Noncrossing_partition)\n",
    "     * [les arbres binaires](https://en.wikipedia.org/wiki/Binary_tree)\n",
    "     * ..."
   ]
  },
  {
   "cell_type": "code",
   "execution_count": null,
   "metadata": {
    "collapsed": true
   },
   "outputs": [],
   "source": []
  }
 ],
 "metadata": {
  "kernelspec": {
   "display_name": "Python 2",
   "language": "python",
   "name": "python2"
  },
  "language_info": {
   "codemirror_mode": {
    "name": "ipython",
    "version": 2
   },
   "file_extension": ".py",
   "mimetype": "text/x-python",
   "name": "python",
   "nbconvert_exporter": "python",
   "pygments_lexer": "ipython2",
   "version": "2.7.13"
  }
 },
 "nbformat": 4,
 "nbformat_minor": 2
}
