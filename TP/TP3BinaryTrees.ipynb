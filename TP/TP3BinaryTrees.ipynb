{
 "cells": [
  {
   "cell_type": "markdown",
   "metadata": {},
   "source": [
    "# Arbres binaires\n",
    "\n",
    "Le but de ce TP est d'implanter les fonctions usuelles telles que la *génération exhaustive* (fabriquer tous les éléments de l'ensemble), *rank* et *unrank* sur l'ensemble des [arbres binaires](https://fr.wikipedia.org/wiki/Arbre_binaire).  \n",
    "\n",
    "Pour représenter les arbres binaires en python, on utilisera la structure suivante.\n",
    "\n",
    "**Exécutez les cellules suivantes et observez les exemples**."
   ]
  },
  {
   "cell_type": "code",
   "execution_count": null,
   "metadata": {
    "collapsed": true
   },
   "outputs": [],
   "source": [
    "class BinaryTree():\n",
    "    \n",
    "    def __init__(self, children = None):\n",
    "        \"\"\"\n",
    "        A binary tree is either a leaf or a node with two subtrees.\n",
    "        \n",
    "        INPUT:\n",
    "            \n",
    "            - children, either None (for a leaf), or a list of size excatly 2 \n",
    "            of either two binary trees or 2 objects that can be made into binary trees\n",
    "        \"\"\"\n",
    "        self._isleaf = (children is None)\n",
    "        if not self._isleaf:\n",
    "            if len(children) != 2:\n",
    "                raise ValueError(\"A binary tree needs exactly two children\")\n",
    "            self._children = tuple(c if isinstance(c,BinaryTree) else BinaryTree(c) for c in children)\n",
    "        self._size = None\n",
    "        \n",
    "    def __repr__(self):\n",
    "        if self.is_leaf():\n",
    "            return \"leaf\"\n",
    "        return str(self._children)\n",
    "    \n",
    "    def __eq__(self, other):\n",
    "        \"\"\"\n",
    "        Return true if other represents the same binary tree as self\n",
    "        \"\"\"\n",
    "        if not isinstance(other, BinaryTree):\n",
    "            return False\n",
    "        if self.is_leaf():\n",
    "            return other.is_leaf()\n",
    "        return self.left() == other.left() and self.right() == other.right()\n",
    "    \n",
    "    \n",
    "    def left(self):\n",
    "        \"\"\"\n",
    "        Return the left subtree of self\n",
    "        \"\"\"\n",
    "        return self._children[0]\n",
    "    \n",
    "    def right(self):\n",
    "        \"\"\"\n",
    "        Return the right subtree of self\n",
    "        \"\"\"\n",
    "        return self._children[1]\n",
    "    \n",
    "    def is_leaf(self):\n",
    "        \"\"\"\n",
    "        Return true is self is a leaf\n",
    "        \"\"\"\n",
    "        return self._isleaf\n",
    "    \n",
    "    def _compute_size(self):\n",
    "        \"\"\"\n",
    "        Recursively computes the size of self\n",
    "        \"\"\"\n",
    "        if self.is_leaf():\n",
    "            self._size = 0\n",
    "        else:\n",
    "            self._size = self.left().size() + self.right().size() + 1\n",
    "    \n",
    "    def size(self):\n",
    "        \"\"\"\n",
    "        Return the number of non leaf nodes in the binary tree\n",
    "        \"\"\"\n",
    "        if self._size is None:\n",
    "            self._compute_size()\n",
    "        return self._size\n",
    "    \n",
    "leaf = BinaryTree()\n",
    "        "
   ]
  },
  {
   "cell_type": "code",
   "execution_count": null,
   "metadata": {},
   "outputs": [],
   "source": [
    "t = BinaryTree()\n",
    "t"
   ]
  },
  {
   "cell_type": "code",
   "execution_count": null,
   "metadata": {},
   "outputs": [],
   "source": [
    "t.size()"
   ]
  },
  {
   "cell_type": "code",
   "execution_count": null,
   "metadata": {},
   "outputs": [],
   "source": [
    "t = BinaryTree([[leaf,leaf], leaf]) # a tree of size 2\n",
    "t"
   ]
  },
  {
   "cell_type": "code",
   "execution_count": null,
   "metadata": {},
   "outputs": [],
   "source": [
    "t.size()"
   ]
  },
  {
   "cell_type": "code",
   "execution_count": null,
   "metadata": {},
   "outputs": [],
   "source": [
    "t = BinaryTree([leaf, [leaf,leaf]]) # a different tree of size 2\n",
    "t"
   ]
  },
  {
   "cell_type": "code",
   "execution_count": null,
   "metadata": {},
   "outputs": [],
   "source": [
    "t.size()"
   ]
  },
  {
   "cell_type": "code",
   "execution_count": null,
   "metadata": {},
   "outputs": [],
   "source": [
    "t = BinaryTree([[leaf, leaf], [leaf, leaf]]) # a tree of size 3\n",
    "t"
   ]
  },
  {
   "cell_type": "code",
   "execution_count": null,
   "metadata": {},
   "outputs": [],
   "source": [
    "t.size()"
   ]
  },
  {
   "cell_type": "markdown",
   "metadata": {},
   "source": [
    "Il y a 5 arbres binaires de taille 3. L'un deux est celui que nous venons de construire. \n",
    "\n",
    "**Construisez explicitement les 4 autres**"
   ]
  },
  {
   "cell_type": "code",
   "execution_count": null,
   "metadata": {},
   "outputs": [],
   "source": [
    "# t1 = BinaryTree(...)\n"
   ]
  },
  {
   "cell_type": "code",
   "execution_count": null,
   "metadata": {},
   "outputs": [],
   "source": [
    "# t2 = BinaryTree(...)\n"
   ]
  },
  {
   "cell_type": "code",
   "execution_count": null,
   "metadata": {
    "collapsed": true
   },
   "outputs": [],
   "source": [
    "# t3 = BinaryTree(...)\n"
   ]
  },
  {
   "cell_type": "code",
   "execution_count": null,
   "metadata": {
    "collapsed": true
   },
   "outputs": [],
   "source": [
    "# t4 = BinaryTree(...)\n"
   ]
  },
  {
   "cell_type": "markdown",
   "metadata": {},
   "source": [
    "Le but de ce TP est d'implanter les fonctions de la classe `BinaryTrees` ci-dessous (avec un \"s\" à la fin) qui représente *l'ensemble* des arbres binaires d'une taille donnée. La structure de la classe vous est donnée ainsi que les méthodes de base.\n",
    "\n",
    "**Complétez les méthodes manquantes puis exécutez les exemples ci-dessous.**"
   ]
  },
  {
   "cell_type": "code",
   "execution_count": null,
   "metadata": {
    "collapsed": true
   },
   "outputs": [],
   "source": [
    "import math\n",
    "import random\n",
    "class BinaryTrees():\n",
    "    \n",
    "    def __init__(self, size):\n",
    "        \"\"\"\n",
    "        The combinatorial set of binary trees of size `size`\n",
    "        \n",
    "        INPUT:\n",
    "        \n",
    "            - size a non negative integers\n",
    "        \"\"\"\n",
    "        self._size = size\n",
    "        \n",
    "    def size(self):\n",
    "        \"\"\"\n",
    "        Return the size of the binary trees of the set\n",
    "        \"\"\"\n",
    "        return self._size\n",
    "    \n",
    "    def __repr__(self):\n",
    "        \"\"\"\n",
    "        Default string repr of ``self``\n",
    "        \"\"\"\n",
    "        return \"Binary Trees of size \" + str(self._size)\n",
    "    \n",
    "    def cardinality(self):\n",
    "        \"\"\"\n",
    "        Return the cardinality of the set\n",
    "        \"\"\"\n",
    "        # This is given to you\n",
    "        n = self._size\n",
    "        f = math.factorial(n)\n",
    "        return math.factorial(2*n)/(f*f*(n+1))\n",
    "    \n",
    "    def __iter__(self):\n",
    "        \"\"\"\n",
    "        Iterator on the elements of the set\n",
    "        \"\"\"\n",
    "        # write code here\n",
    "                    \n",
    "    def first(self):\n",
    "        \"\"\"\n",
    "        Return the first element of the set \n",
    "        \"\"\"\n",
    "        for t in self:\n",
    "            return t\n",
    "                    \n",
    "    def rank(self,t):\n",
    "        \"\"\"\n",
    "        Return the rank of the binary tree t in the generation order of the set (starting at 0)\n",
    "        \n",
    "        INPUT:\n",
    "        \n",
    "            - t, a binary tree\n",
    "        \"\"\"\n",
    "        # write code here\n",
    "    \n",
    "    def unrank(self,i):\n",
    "        \"\"\"\n",
    "        Return the binary tree corresponding to the rank ``i`` \n",
    "        \n",
    "        INPUT:\n",
    "        \n",
    "            - i, a integer between 0 and the cardinality minus 1\n",
    "        \"\"\"\n",
    "        # write code here\n",
    "        \n",
    "    def next(self,t):\n",
    "        \"\"\"\n",
    "        Return the next element following t in self\n",
    "        \n",
    "        INPUT :\n",
    "        \n",
    "            - t a binary tree\n",
    "            \n",
    "        OUPUT :\n",
    "        \n",
    "        The next binary tree or None if t is the last permutation of self\n",
    "        \"\"\"\n",
    "        # write code here\n",
    "        \n",
    "    \n",
    "    def random_element(self):\n",
    "        \"\"\"\n",
    "        Return a random element of ``self`` with uniform probability\n",
    "        \"\"\"\n",
    "        # write code here"
   ]
  },
  {
   "cell_type": "code",
   "execution_count": null,
   "metadata": {},
   "outputs": [],
   "source": [
    "BinaryTrees(0)"
   ]
  },
  {
   "cell_type": "code",
   "execution_count": null,
   "metadata": {},
   "outputs": [],
   "source": [
    "list(BinaryTrees(0))"
   ]
  },
  {
   "cell_type": "code",
   "execution_count": null,
   "metadata": {},
   "outputs": [],
   "source": [
    "BinaryTrees(1)"
   ]
  },
  {
   "cell_type": "code",
   "execution_count": null,
   "metadata": {},
   "outputs": [],
   "source": [
    "list(BinaryTrees(1))"
   ]
  },
  {
   "cell_type": "code",
   "execution_count": null,
   "metadata": {},
   "outputs": [],
   "source": [
    "BinaryTrees(2)"
   ]
  },
  {
   "cell_type": "code",
   "execution_count": null,
   "metadata": {},
   "outputs": [],
   "source": [
    "list(BinaryTrees(2))"
   ]
  },
  {
   "cell_type": "code",
   "execution_count": null,
   "metadata": {},
   "outputs": [],
   "source": [
    "BT3 = BinaryTrees(3)\n",
    "BT3"
   ]
  },
  {
   "cell_type": "code",
   "execution_count": null,
   "metadata": {},
   "outputs": [],
   "source": [
    "list(BT3)"
   ]
  },
  {
   "cell_type": "code",
   "execution_count": null,
   "metadata": {
    "collapsed": true
   },
   "outputs": [],
   "source": [
    "t = BinaryTree(((leaf, leaf), (leaf, leaf)))"
   ]
  },
  {
   "cell_type": "code",
   "execution_count": null,
   "metadata": {},
   "outputs": [],
   "source": [
    "BT3.rank(t)"
   ]
  },
  {
   "cell_type": "code",
   "execution_count": null,
   "metadata": {},
   "outputs": [],
   "source": [
    "BT3.unrank(2)"
   ]
  },
  {
   "cell_type": "code",
   "execution_count": null,
   "metadata": {},
   "outputs": [],
   "source": [
    "BT3.next(t)"
   ]
  },
  {
   "cell_type": "code",
   "execution_count": null,
   "metadata": {},
   "outputs": [],
   "source": [
    "BT3.random_element()"
   ]
  },
  {
   "cell_type": "markdown",
   "metadata": {},
   "source": [
    "La suite de tests que nous avions définies sur les permutations peut aussi s'appliquer sur les arbres binaires. \n",
    "\n",
    "**Exécutez la cellule suivante puis vérifiez que les tests passent sur les exemples**."
   ]
  },
  {
   "cell_type": "code",
   "execution_count": null,
   "metadata": {
    "collapsed": true
   },
   "outputs": [],
   "source": [
    "def test_cardinality_iter(S):\n",
    "    assert(len(list(S)) == S.cardinality())\n",
    "\n",
    "def test_rank(S):\n",
    "    assert([S.rank(p) for p in S] == range(S.cardinality()))\n",
    "    \n",
    "def test_unrank(S):\n",
    "    assert(list(S) == [S.unrank(i) for i in xrange(S.cardinality())])\n",
    "    \n",
    "def test_next(S):\n",
    "    L = [S.first()]\n",
    "    while True:\n",
    "        p = S.next(L[-1])\n",
    "        if p == None:\n",
    "            break\n",
    "        L.append(p)\n",
    "    assert(L == list(S))\n",
    "            \n",
    "    \n",
    "def all_tests(S):\n",
    "    tests = {\"Cardinality / iter\": test_cardinality_iter, \"Rank\": test_rank, \"Unrank\": test_unrank, \"Next\": test_next}\n",
    "    for k in tests:\n",
    "        print \"Testsing: \"+ k\n",
    "        try:\n",
    "            tests[k](S)\n",
    "            print \"Passed\"\n",
    "        except AssertionError:\n",
    "            print \"Not passed\""
   ]
  },
  {
   "cell_type": "code",
   "execution_count": null,
   "metadata": {},
   "outputs": [],
   "source": [
    "all_tests(BinaryTrees(3))"
   ]
  },
  {
   "cell_type": "code",
   "execution_count": null,
   "metadata": {},
   "outputs": [],
   "source": [
    "all_tests(BinaryTrees(4))"
   ]
  },
  {
   "cell_type": "code",
   "execution_count": null,
   "metadata": {},
   "outputs": [],
   "source": [
    "all_tests(BinaryTrees(5))"
   ]
  },
  {
   "cell_type": "code",
   "execution_count": null,
   "metadata": {},
   "outputs": [],
   "source": [
    "all_tests(BinaryTrees(6))"
   ]
  },
  {
   "cell_type": "markdown",
   "metadata": {},
   "source": [
    "Voici une fonction qui calcule un arbre binaire aléatoire. On se demande si chaque arbre est obenu avec une probabilité uniforme.\n",
    "\n",
    "**Exécutez les cellules ci-dessous puis déterminez expérimentalment si la distribution de probabilité est uniforme**."
   ]
  },
  {
   "cell_type": "code",
   "execution_count": null,
   "metadata": {
    "collapsed": true
   },
   "outputs": [],
   "source": [
    "import random\n",
    "def random_grow(t):\n",
    "    \"\"\"\n",
    "    Randomly grows a binary tree \n",
    "    \n",
    "    INPUT:\n",
    "    \n",
    "        - t, a binary tree of size n\n",
    "        \n",
    "    OUTPUT: a binary tree of size n+1\n",
    "    \"\"\"\n",
    "    if t.is_leaf():\n",
    "        return BinaryTree([leaf,leaf])\n",
    "    c = [t.left(),t.right()]\n",
    "    i = random.randint(0,1)\n",
    "    c[i] = random_grow(c[i])\n",
    "    return BinaryTree(c)\n",
    "\n",
    "def random_binary_tree(n):\n",
    "    \"\"\"\n",
    "    Return a random binary tree of size n\n",
    "    \"\"\"\n",
    "    t = leaf\n",
    "    for i in xrange(n):\n",
    "        t = random_grow(t)\n",
    "    return t"
   ]
  },
  {
   "cell_type": "code",
   "execution_count": null,
   "metadata": {},
   "outputs": [],
   "source": [
    "random_binary_tree(10)"
   ]
  },
  {
   "cell_type": "code",
   "execution_count": null,
   "metadata": {
    "collapsed": true
   },
   "outputs": [],
   "source": []
  },
  {
   "cell_type": "code",
   "execution_count": null,
   "metadata": {},
   "outputs": [],
   "source": []
  },
  {
   "cell_type": "code",
   "execution_count": null,
   "metadata": {},
   "outputs": [],
   "source": []
  },
  {
   "cell_type": "markdown",
   "metadata": {},
   "source": [
    "La *hauteur* d'un arbre se calcule récursivement : pour une feuille, la hauteur est 0, sinon c'est le max de la hauteur des fils +1. \n",
    "\n",
    "**Rajoutez une méthode `height` à la classe des arbres binaires et vérifiez son fonctionnement avec les tests suivants**."
   ]
  },
  {
   "cell_type": "code",
   "execution_count": null,
   "metadata": {
    "collapsed": true
   },
   "outputs": [],
   "source": [
    "assert BinaryTree([[leaf,leaf], leaf]).height() == 2\n",
    "assert BinaryTree([leaf,[leaf, leaf]]).height() == 2\n",
    "assert BinaryTree([[leaf,leaf], [leaf,leaf]]).height() == 2\n",
    "assert BinaryTree([[leaf,[leaf,leaf]], [leaf,leaf]]).height() == 3"
   ]
  },
  {
   "cell_type": "markdown",
   "metadata": {},
   "source": [
    "**Calculez la hauteur moyenne de 100 arbres aléatoire de tailles 10, 100 et de 10 arbres aléatoires de taille 500, d'abord avec la méthode uniforme (de la classe `BinaryTrees`) puis avec la fonction `random_trees` interprétez le résultat** "
   ]
  },
  {
   "cell_type": "code",
   "execution_count": null,
   "metadata": {},
   "outputs": [],
   "source": []
  },
  {
   "cell_type": "code",
   "execution_count": null,
   "metadata": {
    "collapsed": true
   },
   "outputs": [],
   "source": []
  }
 ],
 "metadata": {
  "kernelspec": {
   "display_name": "Python 2",
   "language": "python",
   "name": "python2"
  },
  "language_info": {
   "codemirror_mode": {
    "name": "ipython",
    "version": 2
   },
   "file_extension": ".py",
   "mimetype": "text/x-python",
   "name": "python",
   "nbconvert_exporter": "python",
   "pygments_lexer": "ipython2",
   "version": "2.7.13"
  }
 },
 "nbformat": 4,
 "nbformat_minor": 2
}
