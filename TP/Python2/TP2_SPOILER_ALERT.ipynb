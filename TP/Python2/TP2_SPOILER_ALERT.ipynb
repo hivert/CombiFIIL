{
 "cells": [
  {
   "cell_type": "markdown",
   "metadata": {},
   "source": [
    "## Indication 1\n",
    "\n",
    "une permutation de taille $n$ peut être construite à partir d'une permutation de taille $n-1$ en rajoutant le nombre $n$ à toutes les positions possible.\n",
    "\n",
    "Par exemple, à partir de la permutation $12$, on construit\n",
    "\n",
    "$12~3$\n",
    "\n",
    "$1~3~2$\n",
    "\n",
    "$3~12$.\n",
    "\n",
    "Et à partir de la permutation $21$, on construit\n",
    "\n",
    "$21~3$\n",
    "\n",
    "$2~3~1$\n",
    "\n",
    "$3~21$"
   ]
  },
  {
   "cell_type": "markdown",
   "metadata": {},
   "source": [
    "## Indication 2\n",
    "\n",
    "Les permutations de l'ensemble [1,2,3] par ordre lex sont dans l'ordre :\n",
    "\n",
    " * les permutations commençant par 1, suivi des permutations de l'ensemble [2,3] dans l'ordre lex\n",
    " * les permutations commençant par 2, suivi des permutations de l'ensemble [1,3] dans l'ordre lex\n",
    " * les permutations commençant par 3, suivi des permutations de l'ensemble [1,2] dans l'ordre lex\n",
    " \n",
    "Remarquez qu'il faudra faire plusieurs appels récursifs : 1 pour chaque valeur de l'ensemble.\n"
   ]
  },
  {
   "cell_type": "markdown",
   "metadata": {},
   "source": [
    "## Indication 3\n",
    "\n",
    "Si votre permutation commence par un nombre $k$, vous savez déjà que toutes les permutations qui commencent par $k' < k$ avec $k'$ dans la liste des nombres sont plus petites dans l'ordre lexicographique : **combien sont-elles ?** A ce nombre, vous devez ajouter le rang de votre permutation parmi celles qui commencent par $k$ (récursion...). "
   ]
  },
  {
   "cell_type": "markdown",
   "metadata": {},
   "source": [
    "## Indication 4\n",
    "\n",
    "Si votre liste $s$ est de taille $n$, les indices vont de 0 à $n! -1$. Quels sont les indices des permtuations qui commencent par le premier nombre de la liste ? Par le second ? Etc. Ce raisonnement s'applique récursivement."
   ]
  },
  {
   "cell_type": "code",
   "execution_count": null,
   "metadata": {
    "collapsed": true
   },
   "outputs": [],
   "source": []
  }
 ],
 "metadata": {
  "kernelspec": {
   "display_name": "Python 2",
   "language": "python",
   "name": "python2"
  },
  "language_info": {
   "codemirror_mode": {
    "name": "ipython",
    "version": 2
   },
   "file_extension": ".py",
   "mimetype": "text/x-python",
   "name": "python",
   "nbconvert_exporter": "python",
   "pygments_lexer": "ipython2",
   "version": "2.7.13"
  }
 },
 "nbformat": 4,
 "nbformat_minor": 2
}
