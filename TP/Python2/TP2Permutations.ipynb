{
 "cells": [
  {
   "cell_type": "markdown",
   "metadata": {},
   "source": [
    "# Permutations et Multi permutations\n",
    "\n",
    "Le but de ce TP est d'implanter les différents algorithmes combinatoires que nous avons vus en cours dans le cas des **permutations**.\n",
    "\n",
    "Les permutations d'un ensemble $S$ sont toutes les façons de lister les éléments de $S$. Par exemple, voici les permutations de l'ensemble $\\lbrace 1, 2, 3 \\rbrace$ :\n",
    "\n",
    "$123, 132, 213, 231, 312, 321$.\n",
    "\n",
    "Et voici les permutations de $\\lbrace 1,1,2 \\rbrace$ :\n",
    "\n",
    "$112, 121, 211$.\n",
    "\n",
    "## Engendrer les permutations simples\n",
    "\n",
    "On s'intéresse d'abord au cas où tous les éléments de $S$ sont distincts. \n",
    "\n",
    "Dans la fonction qui suit, on vous demande d'engendrer récursivement les permutations de $\\lbrace 1, \\dots n \\rbrace$. L'ordre dans lequel on obtient les permutatiosn n'a pas d'improtance. Comme dans le TP précédent, vous utiliserez un *générateur* à l'aide de l'instruction python *yield*.\n",
    "\n",
    "Essayez de trouver seul l'algorithme, si vous êtes bloqués, vous pouvez consulter le fichier **TP2_SOILER_ALERT**, **Indication 1**."
   ]
  },
  {
   "cell_type": "code",
   "execution_count": null,
   "metadata": {
    "collapsed": true
   },
   "outputs": [],
   "source": [
    "# Rappel manipulation de liste en python\n",
    "# liste vide\n",
    "lvide = []\n",
    "lvide"
   ]
  },
  {
   "cell_type": "code",
   "execution_count": null,
   "metadata": {
    "collapsed": true
   },
   "outputs": [],
   "source": [
    "# liste à un élément\n",
    "l1 = [3]\n",
    "l1"
   ]
  },
  {
   "cell_type": "code",
   "execution_count": null,
   "metadata": {
    "collapsed": true
   },
   "outputs": [],
   "source": [
    "# concaténation de liste\n",
    "l = [2,2,1] + l1 + [1,2]\n",
    "l"
   ]
  },
  {
   "cell_type": "code",
   "execution_count": null,
   "metadata": {
    "collapsed": true
   },
   "outputs": [],
   "source": [
    "def permutations(n):\n",
    "    \"\"\"\n",
    "    Return a generator on standard permutations of size n (permutations of {1, ...n})\n",
    "    \n",
    "    Input:\n",
    "    \n",
    "        - n, a non negative integer\n",
    "    \"\"\"\n",
    "    # write code here"
   ]
  },
  {
   "cell_type": "code",
   "execution_count": null,
   "metadata": {
    "collapsed": true
   },
   "outputs": [],
   "source": []
  },
  {
   "cell_type": "code",
   "execution_count": null,
   "metadata": {
    "collapsed": true
   },
   "outputs": [],
   "source": []
  },
  {
   "cell_type": "code",
   "execution_count": null,
   "metadata": {
    "collapsed": true
   },
   "outputs": [],
   "source": [
    "# tests\n",
    "assert(list(permutations(0)) == [[]])\n",
    "assert(list(permutations(1)) == [[1]])\n",
    "P2 = list(permutations(2))\n",
    "P2.sort()\n",
    "assert(P2 == [[1,2],[2,1]])\n",
    "P3 = list(permutations(3))\n",
    "P3.sort()\n",
    "assert(P3 == [[1, 2, 3], [1, 3, 2], [2, 1, 3], [2, 3, 1], [3, 1, 2], [3, 2, 1]])\n",
    "assert(len(list(permutations(4))) == 24)"
   ]
  },
  {
   "cell_type": "code",
   "execution_count": null,
   "metadata": {
    "collapsed": true
   },
   "outputs": [],
   "source": []
  },
  {
   "cell_type": "markdown",
   "metadata": {},
   "source": [
    "On souhaite à présent engendrer les permutations dans l'ordre lexicographique, est-ce le cas de votre algorithme ? *Sans doute pas...* "
   ]
  },
  {
   "cell_type": "code",
   "execution_count": null,
   "metadata": {
    "collapsed": true
   },
   "outputs": [],
   "source": [
    "list(permutations(3)) == [[1, 2, 3], [1, 3, 2], [2, 1, 3], [2, 3, 1], [3, 1, 2], [3, 2, 1]]"
   ]
  },
  {
   "cell_type": "markdown",
   "metadata": {},
   "source": [
    "*False* -> j'avais raison... \n",
    "\n",
    "*True* -> Dans ce cas, soit vous conservez la liste des permutations de taille $n-1$, soit vous les engendrez plusieurs fois.\n",
    "\n",
    "Dans tous les cas, écrivez la fonction suivante. Cette fois, elle prend en argument la liste des nombres à permuter (et non plus seulement le nombre $n$) et engendre les permutations de ces nombres en ordre lexicographic.\n",
    "\n",
    "**Aide : TP2_SPOILER_ALERT Indication 2**"
   ]
  },
  {
   "cell_type": "code",
   "execution_count": null,
   "metadata": {
    "collapsed": true
   },
   "outputs": [],
   "source": [
    "# Rappel python, copier un morceau de liste\n",
    "# l[a:b] retourne la liste l entre l'indice a (inclus) et l'indice b (exclus)\n",
    "l = [1,2,3,4]"
   ]
  },
  {
   "cell_type": "code",
   "execution_count": null,
   "metadata": {
    "collapsed": true
   },
   "outputs": [],
   "source": [
    "l[:] # copie de toute la liste"
   ]
  },
  {
   "cell_type": "code",
   "execution_count": null,
   "metadata": {
    "collapsed": true
   },
   "outputs": [],
   "source": [
    "l[:0] # copie de rien du tout"
   ]
  },
  {
   "cell_type": "code",
   "execution_count": null,
   "metadata": {
    "collapsed": true
   },
   "outputs": [],
   "source": [
    "l[:1]"
   ]
  },
  {
   "cell_type": "code",
   "execution_count": null,
   "metadata": {
    "collapsed": true
   },
   "outputs": [],
   "source": [
    "l[:3]"
   ]
  },
  {
   "cell_type": "code",
   "execution_count": null,
   "metadata": {
    "collapsed": true
   },
   "outputs": [],
   "source": [
    "l[1:3]"
   ]
  },
  {
   "cell_type": "code",
   "execution_count": null,
   "metadata": {
    "collapsed": true
   },
   "outputs": [],
   "source": [
    "l[1:]"
   ]
  },
  {
   "cell_type": "code",
   "execution_count": null,
   "metadata": {
    "collapsed": true
   },
   "outputs": [],
   "source": [
    "l[2:]"
   ]
  },
  {
   "cell_type": "code",
   "execution_count": null,
   "metadata": {
    "collapsed": true
   },
   "outputs": [],
   "source": []
  },
  {
   "cell_type": "code",
   "execution_count": null,
   "metadata": {
    "collapsed": true
   },
   "outputs": [],
   "source": [
    "def permutations_lex(s):\n",
    "    \"\"\"\n",
    "    Return a generator on permutations of the set s in lexicographic order\n",
    "    \n",
    "    INPUT:\n",
    "    \n",
    "    - s, a list of distinct integers in lexicographic order\n",
    "    \"\"\"\n",
    "    # write code here"
   ]
  },
  {
   "cell_type": "code",
   "execution_count": null,
   "metadata": {
    "collapsed": true
   },
   "outputs": [],
   "source": [
    "list(permutations_lex([1,2,3]))"
   ]
  },
  {
   "cell_type": "code",
   "execution_count": null,
   "metadata": {
    "collapsed": true
   },
   "outputs": [],
   "source": [
    "# tests\n",
    "assert(list(permutations_lex([])) == [[]])\n",
    "assert(list(permutations_lex([1])) == [[1]])\n",
    "assert(list(permutations_lex([2])) == [[2]])\n",
    "assert(list(permutations_lex([1,2])) == [[1,2],[2,1]])\n",
    "assert(list(permutations_lex([2,3])) == [[2,3],[3,2]])\n",
    "assert(list(permutations_lex([1,2,3])) ==[[1, 2, 3], [1, 3, 2], [2, 1, 3], [2, 3, 1], [3, 1, 2], [3, 2, 1]])\n",
    "P4 = list(permutations_lex([1,2,3,4]))\n",
    "P4.sort()\n",
    "assert(P4 == list(permutations_lex([1,2,3,4])))"
   ]
  },
  {
   "cell_type": "markdown",
   "metadata": {},
   "source": [
    "## Rank et Unrank\n",
    "\n",
    "La fonction *rank* donne le numéro de la permutation dans la liste (en partant de 0). **Aide : TP2_SPOILER_ALERT Indication 3**\n",
    "\n",
    "La fonction *unrank* donne la permutation qui a le numéro demandé. **Aide : TP2_SPOILER_ALERT Indication 4**\n",
    "\n",
    "**Remarque :** La méthode qui consiste à engendrer la liste jusqu'à l'indice ou la permutation recherchée n'est pas acceptable. On veut des algorithmes dont la complexité est linéaire en fonction de la taille de la liste $s$.\n",
    "\n",
    "On travaille toujours avec l'ordre lexicographique."
   ]
  },
  {
   "cell_type": "code",
   "execution_count": null,
   "metadata": {
    "collapsed": true
   },
   "outputs": [],
   "source": [
    "# Si besoin, vous pouvez utiliser la fonction suivante\n",
    "import math\n",
    "math.factorial(4)"
   ]
  },
  {
   "cell_type": "code",
   "execution_count": null,
   "metadata": {
    "collapsed": true
   },
   "outputs": [],
   "source": [
    "# rappel python, l'indice d'un élément dans une liste\n",
    "l = [2,3,1]\n",
    "l.index(3)"
   ]
  },
  {
   "cell_type": "code",
   "execution_count": null,
   "metadata": {
    "collapsed": true
   },
   "outputs": [],
   "source": [
    "import math\n",
    "def rank(s,p):\n",
    "    \"\"\"\n",
    "    Return the rank of the permutation p among permutations of the set s in lex order\n",
    "    \n",
    "    INPUT:\n",
    "    \n",
    "        - s, the list of permuted values in lex order\n",
    "        - p, a permutation of s\n",
    "        \n",
    "    OUTPUT: an integer between 0 and the number of permutations of s\n",
    "    \"\"\"\n",
    "    # write code here"
   ]
  },
  {
   "cell_type": "code",
   "execution_count": null,
   "metadata": {
    "collapsed": true
   },
   "outputs": [],
   "source": [
    "rank([1,2,3],[1,2,3])"
   ]
  },
  {
   "cell_type": "code",
   "execution_count": null,
   "metadata": {
    "collapsed": true
   },
   "outputs": [],
   "source": [
    "assert(rank([1,2,3],[1,2,3]) == 0)\n",
    "assert(rank([1,2,3],[3,2,1]) == 5)\n",
    "assert(rank([1,2,3],[1,3,2]) == 1)\n",
    "assert(rank([2,3,4],[2,4,3]) == 1)\n",
    "assert([rank([1,2,3,4],p) for p in permutations_lex([1,2,3,4])] == range(24) )"
   ]
  },
  {
   "cell_type": "code",
   "execution_count": null,
   "metadata": {
    "collapsed": true
   },
   "outputs": [],
   "source": [
    "import math\n",
    "def unrank(s,i):\n",
    "    \"\"\"\n",
    "    Return the permutation with rank i in the list of permutations of the set s in lex order\n",
    "    \n",
    "    INPUT:\n",
    "    \n",
    "        - s, the list of permuted values\n",
    "        - i, the rank of the permutation\n",
    "        \n",
    "    OUTPUT : a permutation\n",
    "    \"\"\"\n",
    "    # write code here"
   ]
  },
  {
   "cell_type": "code",
   "execution_count": null,
   "metadata": {
    "collapsed": true
   },
   "outputs": [],
   "source": [
    "unrank([1,2,3],0)"
   ]
  },
  {
   "cell_type": "code",
   "execution_count": null,
   "metadata": {
    "collapsed": true
   },
   "outputs": [],
   "source": [
    "assert(unrank([1,2,3],0) == [1,2,3])\n",
    "assert(unrank([1,2,3],5) == [3,2,1])\n",
    "assert(unrank([1,2,3],1) == [1,3,2])\n",
    "assert(unrank([2,3,4],1) == [2,4,3])\n",
    "assert([unrank([1,2,3,4],i) for i in xrange(24)] == list(permutations_lex([1,2,3,4])))"
   ]
  },
  {
   "cell_type": "markdown",
   "metadata": {},
   "source": [
    "## Un peu d'objet\n",
    "\n",
    "Nous allons maintenant implanter une *classe* pour représenter l'ensemble des permutations d'un set de valeurs donné. Pour l'instant, on suppose toujours que les valeurs sont toutes distinctes. \n",
    "\n",
    "On vous donne la structure de l'objet, on a implanté les méthodes de base et il vous reste les autres. Pour les méthodes `__iter__`, `rank` et `unrank` il faut simplement reprendre le code que vous avez écrit plus tôt et l'adapter à l'écriture objet. Il vous reste la méthode `next` et la méthode `random_permutation`.\n",
    "\n",
    "**Remarque méthode `random_element`:** il est possible d'écrire la méthode `random_permtuation` d'une façon *générique* qui n'utilise pas le fait que l'on travaille sur des permutations mais simplement les autres méthodes de la classe.\n",
    "\n",
    "**Remarque méthode `next`** : là aussi, il est possible d'écrire un algorithme générique, cependant vous vous aussi chercher l'algorithme direct."
   ]
  },
  {
   "cell_type": "markdown",
   "metadata": {},
   "source": [
    "**Remarque python** Observez la syntaxe de la classe et les exemples ci-dessous pour en comprendre le fonctionnenment. Les méthodes qui commencent par un double underscore `__` sont des méthodes spécilaes pour les objets python :\n",
    "\n",
    " * `__init__` : la méthode d'initialisation de l'objet\n",
    " * `__repr__` : la méthode d'affichage de l'objet\n",
    " * `__iter__` : la méthode d'iteration sur l'objet, ici on veut que ça itère les permutations de l'ensemble\n",
    " \n",
    "Vous remarquez que toutes les méthodes prennent en premier paramètre `self` qui représente l'objet lui même (vous n'avez cependant pas besoin de passer explicitement l'objet en paramètre). De même, il faut toujous préciser `self.quelquechose` pour accéder à l'attribut / méthode `quelquechose` à l'intérieur de la classe."
   ]
  },
  {
   "cell_type": "code",
   "execution_count": null,
   "metadata": {
    "collapsed": true
   },
   "outputs": [],
   "source": [
    "import math\n",
    "import random\n",
    "class Permutations():\n",
    "    \n",
    "    def __init__(self, values):\n",
    "        \"\"\"\n",
    "        The combinatorial set of permutations of ``values``\n",
    "        \n",
    "        INPUT:\n",
    "        \n",
    "            - ``values`` a list of distinct values in lexicographic order\n",
    "        \"\"\"\n",
    "        self._values = values\n",
    "        \n",
    "    def values(self):\n",
    "        \"\"\"\n",
    "        Return the values to be permuted\n",
    "        \"\"\"\n",
    "        return self._values\n",
    "    \n",
    "    def __repr__(self):\n",
    "        \"\"\"\n",
    "        Default string repr of ``self``\n",
    "        \"\"\"\n",
    "        return \"Permutations of \" + str(self._values)\n",
    "    \n",
    "    def cardinality(self):\n",
    "        \"\"\"\n",
    "        Return the cardinality of the set\n",
    "        \"\"\"\n",
    "        # write code here\n",
    "    \n",
    "    def first(self):\n",
    "        \"\"\"\n",
    "        Return the first element of the set in lex order\n",
    "        \"\"\"\n",
    "        return list(self.values())\n",
    "    \n",
    "    def __iter__(self):\n",
    "        \"\"\"\n",
    "        Iterator on the elements of the set in lexicographic order\n",
    "        \"\"\"\n",
    "        # write code here\n",
    "                    \n",
    "    def rank(self,p):\n",
    "        \"\"\"\n",
    "        Return the rank of permutation ``p`` in ``self`` in lexicographic order (starting at 0)\n",
    "        \n",
    "        INPUT:\n",
    "        \n",
    "            - ``p`` a permutation of ``self``\n",
    "        \"\"\"\n",
    "        # write code here\n",
    "    \n",
    "    def unrank(self,i):\n",
    "        \"\"\"\n",
    "        Return the permutation corresponding to the rank ``i`` \n",
    "        \n",
    "        INPUT:\n",
    "        \n",
    "            - ``i`` a integer between 0 and the cardinality minus 1\n",
    "        \"\"\"\n",
    "        # write code here\n",
    "    \n",
    "    def next(self,p):\n",
    "        \"\"\"\n",
    "        Return the next element following ``p`` in ``self``\n",
    "        \n",
    "        INPUT :\n",
    "        \n",
    "            - ``p`` a permutation of ``self``\n",
    "            \n",
    "        OUPUT :\n",
    "        \n",
    "        The next permutation or ``None`` if ``p`` is the last permutation of ``self``\n",
    "        \"\"\"\n",
    "        # write code here\n",
    "        \n",
    "    \n",
    "    def random_element(self):\n",
    "        \"\"\"\n",
    "        Return a random element of ``self`` with uniform probability\n",
    "        \"\"\"\n",
    "        # write code here"
   ]
  },
  {
   "cell_type": "code",
   "execution_count": null,
   "metadata": {
    "collapsed": true
   },
   "outputs": [],
   "source": [
    "Permutations([1,2,3])"
   ]
  },
  {
   "cell_type": "code",
   "execution_count": null,
   "metadata": {
    "collapsed": true
   },
   "outputs": [],
   "source": [
    "P = Permutations([1,2,3])\n",
    "P.values()"
   ]
  },
  {
   "cell_type": "code",
   "execution_count": null,
   "metadata": {
    "collapsed": true
   },
   "outputs": [],
   "source": [
    "P.cardinality() "
   ]
  },
  {
   "cell_type": "code",
   "execution_count": null,
   "metadata": {
    "collapsed": true
   },
   "outputs": [],
   "source": [
    "list(P) # fonctionnera si la methode __iter__ est implantée"
   ]
  },
  {
   "cell_type": "code",
   "execution_count": null,
   "metadata": {
    "collapsed": true
   },
   "outputs": [],
   "source": [
    "P.first()"
   ]
  },
  {
   "cell_type": "code",
   "execution_count": null,
   "metadata": {
    "collapsed": true
   },
   "outputs": [],
   "source": [
    "P.rank([2,3,1])"
   ]
  },
  {
   "cell_type": "code",
   "execution_count": null,
   "metadata": {
    "collapsed": true
   },
   "outputs": [],
   "source": [
    "P.unrank(3)"
   ]
  },
  {
   "cell_type": "code",
   "execution_count": null,
   "metadata": {
    "collapsed": true
   },
   "outputs": [],
   "source": [
    "P.next([2,3,1])"
   ]
  },
  {
   "cell_type": "code",
   "execution_count": null,
   "metadata": {
    "collapsed": true
   },
   "outputs": [],
   "source": [
    "P.random_element()"
   ]
  },
  {
   "cell_type": "markdown",
   "metadata": {},
   "source": [
    "Voici une série de tests génériques pour des ensembles combinatoires. Exécutez les exemples ci-dessous pour vérifier que votre classe passe les tests."
   ]
  },
  {
   "cell_type": "code",
   "execution_count": null,
   "metadata": {
    "collapsed": true
   },
   "outputs": [],
   "source": [
    "def test_cardinality_iter(S):\n",
    "    assert(len(list(S)) == S.cardinality())\n",
    "\n",
    "def test_rank(S):\n",
    "    assert([S.rank(p) for p in S] == range(S.cardinality()))\n",
    "    \n",
    "def test_unrank(S):\n",
    "    assert(list(S) == [S.unrank(i) for i in xrange(S.cardinality())])\n",
    "    \n",
    "def test_next(S):\n",
    "    L = [S.first()]\n",
    "    while True:\n",
    "        p = S.next(L[-1])\n",
    "        if p == None:\n",
    "            break\n",
    "        L.append(p)\n",
    "    assert(L == list(S))\n",
    "            \n",
    "    \n",
    "def all_tests(S):\n",
    "    tests = {\"Cardinality / iter\": test_cardinality_iter, \"Rank\": test_rank, \"Unrank\": test_unrank, \"Next\": test_next}\n",
    "    for k in tests:\n",
    "        print \"Testsing: \"+ k\n",
    "        try:\n",
    "            tests[k](S)\n",
    "            print \"Passed\"\n",
    "        except AssertionError:\n",
    "            print \"Not passed\""
   ]
  },
  {
   "cell_type": "code",
   "execution_count": null,
   "metadata": {
    "collapsed": true
   },
   "outputs": [],
   "source": [
    "all_tests(Permutations([1,2,3]))"
   ]
  },
  {
   "cell_type": "code",
   "execution_count": null,
   "metadata": {
    "collapsed": true
   },
   "outputs": [],
   "source": [
    "all_tests(Permutations([1,2,3,4]))"
   ]
  },
  {
   "cell_type": "code",
   "execution_count": null,
   "metadata": {
    "collapsed": true
   },
   "outputs": [],
   "source": [
    "all_tests(Permutations([2,4,5,6]))"
   ]
  },
  {
   "cell_type": "code",
   "execution_count": null,
   "metadata": {
    "collapsed": true
   },
   "outputs": [],
   "source": [
    "all_tests(Permutations([1,2,3,4,5]))"
   ]
  },
  {
   "cell_type": "code",
   "execution_count": null,
   "metadata": {
    "collapsed": true
   },
   "outputs": [],
   "source": [
    "all_tests(Permutations([1,2,3,4,5,6]))"
   ]
  },
  {
   "cell_type": "code",
   "execution_count": null,
   "metadata": {
    "collapsed": true
   },
   "outputs": [],
   "source": [
    "all_tests(Permutations([1,2,3,4,5,6,7]))"
   ]
  },
  {
   "cell_type": "markdown",
   "metadata": {},
   "source": [
    "**Exercice :** vérifiez expérimentalement que votre algorithme pour `random_element` donne bien une distribution uniforme."
   ]
  },
  {
   "cell_type": "code",
   "execution_count": null,
   "metadata": {
    "collapsed": true
   },
   "outputs": [],
   "source": []
  },
  {
   "cell_type": "code",
   "execution_count": null,
   "metadata": {
    "collapsed": true
   },
   "outputs": [],
   "source": []
  },
  {
   "cell_type": "markdown",
   "metadata": {},
   "source": [
    "## Multi permutations\n",
    "\n",
    "Nous allons maintenant refaire le même exercice mais cette fois avec des multi permutations (permuations sur un ensemble de valeur avec répétitions). On prendra toujours en paramètre la liste des valeurs on accepte qu'elle contienne des valeurs répétées. Par exemple, les pemrutations de $1,1,2$ sont $112$, $121$ et $211$.\n",
    "\n",
    "On vous donne la classe suivante avec quelques méthodes utiles. A vous de la complétez."
   ]
  },
  {
   "cell_type": "code",
   "execution_count": null,
   "metadata": {
    "collapsed": true
   },
   "outputs": [],
   "source": [
    "import math\n",
    "import random\n",
    "class MultiPermutations():\n",
    "    \n",
    "    def __init__(self, values):\n",
    "        \"\"\"\n",
    "        The combinatorial set of permutations of ``values``\n",
    "        \n",
    "        INPUT:\n",
    "        \n",
    "            - ``values`` a list of values, non necessary disctincts, in lexicographic order\n",
    "        \"\"\"\n",
    "        self._values = values\n",
    "        self._distinct_values = None\n",
    "        self._number_of = None\n",
    "        \n",
    "    def values(self):\n",
    "        \"\"\"\n",
    "        Return the values to be permuted\n",
    "        \"\"\"\n",
    "        return self._values\n",
    "    \n",
    "    def distinct_values(self):\n",
    "        \"\"\"\n",
    "        Return the list of distinct values of ``self``\n",
    "        \"\"\"\n",
    "        if self._distinct_values is None:\n",
    "            if len(self._values) == 0:\n",
    "                dv = []\n",
    "            else:\n",
    "                dv = [self._values[0]]\n",
    "                for v in self._values:\n",
    "                    if v != dv[-1]:\n",
    "                        dv.append(v)\n",
    "            self._distinct_values = dv\n",
    "        return self._distinct_values\n",
    "            \n",
    "    def number_of(self, i):\n",
    "        \"\"\"\n",
    "        Return the number of occurences of the number ``i`` in the values of ``self``\n",
    "        \"\"\"\n",
    "        if self._number_of is None:\n",
    "            self._number_of = {}\n",
    "            for v in self.values():\n",
    "                self._number_of[v] = self._number_of.get(v,0)+1\n",
    "        return self._number_of.get(i,0)\n",
    "    \n",
    "    def remove(self, v):\n",
    "        \"\"\"\n",
    "        Return the set of multipermutations on the values of ``self`` where one occurence of ``v`` has been removed\n",
    "        \"\"\"\n",
    "        l = self.values()\n",
    "        i = l.index(v)\n",
    "        return MultiPermutations(l[:i] + l[i+1:])\n",
    "    \n",
    "    def first(self):\n",
    "        \"\"\"\n",
    "        Return the first element of the set in lex order\n",
    "        \"\"\"\n",
    "        return list(self._values)\n",
    "    \n",
    "    def __repr__(self):\n",
    "        \"\"\"\n",
    "        Default string repr of ``self``\n",
    "        \"\"\"\n",
    "        return \"(Multi) Permutations of \" + str(self._values)\n",
    "    \n",
    "    def cardinality(self):\n",
    "        \"\"\"\n",
    "        Return the cardinality of the set\n",
    "        \"\"\"\n",
    "        # write code here\n",
    "    \n",
    "    def __iter__(self):\n",
    "        \"\"\"\n",
    "        Iterator on the elements of the set in lexicographic order\n",
    "        \"\"\"\n",
    "        # write code here\n",
    "                    \n",
    "    def rank(self,p):\n",
    "        \"\"\"\n",
    "        Return the rank of permutation ``p`` in ``self`` in lexicographic order (starting at 0)\n",
    "        \n",
    "        INPUT:\n",
    "        \n",
    "            - ``p`` a permutation of ``self``\n",
    "        \"\"\"\n",
    "        # write code here\n",
    "    \n",
    "    def unrank(self,i):\n",
    "        \"\"\"\n",
    "        Return the permutation corresponding to the rank ``i`` \n",
    "        \n",
    "        INPUT:\n",
    "        \n",
    "            - ``i`` a integer between 0 and the cardinality minus 1\n",
    "        \"\"\"\n",
    "        # write code here\n",
    "            \n",
    "    \n",
    "    def next(self,p):\n",
    "        \"\"\"\n",
    "        Return the next element following ``p`` in ``self``\n",
    "        \n",
    "        INPUT :\n",
    "        \n",
    "            - ``p`` a permutation of ``self``\n",
    "            \n",
    "        OUPUT :\n",
    "        \n",
    "        The next permutation or ``None`` if ``p`` is the last permutation of ``self``\n",
    "        \"\"\"\n",
    "        # write code here\n",
    "    \n",
    "    def random_element(self):\n",
    "        \"\"\"\n",
    "        Return a random element of ``self`` with uniform probability\n",
    "        \"\"\"\n",
    "        # write code here"
   ]
  },
  {
   "cell_type": "code",
   "execution_count": null,
   "metadata": {
    "collapsed": true
   },
   "outputs": [],
   "source": [
    "M = MultiPermutations([1,1,2])\n",
    "M"
   ]
  },
  {
   "cell_type": "code",
   "execution_count": null,
   "metadata": {
    "collapsed": true
   },
   "outputs": [],
   "source": [
    "M.remove(1)"
   ]
  },
  {
   "cell_type": "code",
   "execution_count": null,
   "metadata": {
    "collapsed": true
   },
   "outputs": [],
   "source": [
    "M.remove(2)"
   ]
  },
  {
   "cell_type": "code",
   "execution_count": null,
   "metadata": {
    "collapsed": true
   },
   "outputs": [],
   "source": [
    "M.cardinality()"
   ]
  },
  {
   "cell_type": "code",
   "execution_count": null,
   "metadata": {
    "collapsed": true
   },
   "outputs": [],
   "source": [
    "list(M)"
   ]
  },
  {
   "cell_type": "code",
   "execution_count": null,
   "metadata": {
    "collapsed": true
   },
   "outputs": [],
   "source": [
    "M.rank([1,2,1])"
   ]
  },
  {
   "cell_type": "code",
   "execution_count": null,
   "metadata": {
    "collapsed": true
   },
   "outputs": [],
   "source": [
    "M.unrank(1)"
   ]
  },
  {
   "cell_type": "code",
   "execution_count": null,
   "metadata": {
    "collapsed": true
   },
   "outputs": [],
   "source": [
    "M.next([1,2,1])"
   ]
  },
  {
   "cell_type": "code",
   "execution_count": null,
   "metadata": {
    "collapsed": true
   },
   "outputs": [],
   "source": [
    "M.random_element()"
   ]
  },
  {
   "cell_type": "code",
   "execution_count": null,
   "metadata": {
    "collapsed": true
   },
   "outputs": [],
   "source": [
    "all_tests(M)"
   ]
  },
  {
   "cell_type": "code",
   "execution_count": null,
   "metadata": {
    "collapsed": true
   },
   "outputs": [],
   "source": [
    "all_tests(MultiPermutations([1,2,3]))"
   ]
  },
  {
   "cell_type": "code",
   "execution_count": null,
   "metadata": {
    "collapsed": true
   },
   "outputs": [],
   "source": [
    "all_tests(MultiPermutations([2,2,2]))"
   ]
  },
  {
   "cell_type": "code",
   "execution_count": null,
   "metadata": {
    "collapsed": true
   },
   "outputs": [],
   "source": [
    "all_tests(MultiPermutations([1,1,2,2,2]))"
   ]
  },
  {
   "cell_type": "code",
   "execution_count": null,
   "metadata": {
    "collapsed": true
   },
   "outputs": [],
   "source": [
    "all_tests(MultiPermutations([1,1,1,2,2,3,3]))"
   ]
  },
  {
   "cell_type": "markdown",
   "metadata": {},
   "source": [
    "**Exercice** : vérifiez expérimentalement que votre méthode pour `random_element` donnebien une distribution uniforme."
   ]
  },
  {
   "cell_type": "code",
   "execution_count": null,
   "metadata": {
    "collapsed": true
   },
   "outputs": [],
   "source": []
  },
  {
   "cell_type": "code",
   "execution_count": null,
   "metadata": {
    "collapsed": true
   },
   "outputs": [],
   "source": []
  },
  {
   "cell_type": "markdown",
   "metadata": {},
   "source": [
    "## Applications : tests de tris\n",
    "\n",
    "Sur le repertoire `git`, vous trouverez un fichier `trisoff.py`, téléchargez-le dans le même repertoire que le notebook ouvert et exécutez la ligne suivante."
   ]
  },
  {
   "cell_type": "code",
   "execution_count": null,
   "metadata": {
    "collapsed": true
   },
   "outputs": [],
   "source": [
    "from trisoff import trisoff"
   ]
  },
  {
   "cell_type": "markdown",
   "metadata": {},
   "source": [
    "Le tableau `trisoff` contient des fonctions de tris qui prennent en argument une `list` python et retournent une nouvelle liste (sans modifier l'ancienne) supposément triée. On souhaite tester les algorithmes sur différentes configurations. Pour cela, on implémente la classe suivante (à compléter). "
   ]
  },
  {
   "cell_type": "code",
   "execution_count": null,
   "metadata": {
    "collapsed": true
   },
   "outputs": [],
   "source": [
    "class TestTris():\n",
    "    \n",
    "    def __init__(self, permset):\n",
    "        \"\"\"\n",
    "        INPUT:\n",
    "            \n",
    "            - ftri, a sorting function\n",
    "            - permset, a permutation set, an instance of Permutations or Multipermutations\n",
    "        \"\"\"\n",
    "        self._permset = permset\n",
    "        \n",
    "    def permset(self):\n",
    "        \"\"\"\n",
    "        Return the permutation set of self\n",
    "        \"\"\"\n",
    "        return self._permset\n",
    "        \n",
    "    def __repr__(self):\n",
    "        return \"Sorting test class for \" + str(self.permset())\n",
    "        \n",
    "    def is_sorted(self,perm):\n",
    "        \"\"\"\n",
    "        Return True if perm is a sorted permutation of the permset (same values and sorted)\n",
    "        INPUT:\n",
    "        \n",
    "            - perm, a list of numbers\n",
    "        \"\"\"\n",
    "        return perm == self.permset().first() # there is only one sorted perm per permset: the first one\n",
    "    \n",
    "    def test_on_all(self,ftri):\n",
    "        \"\"\"\n",
    "        Return True if the function ftri works on all permutations of the permset\n",
    "        \n",
    "        INPUT:\n",
    "        \n",
    "            - ftri, a python function which takes a list input and returns a list\n",
    "        \"\"\"\n",
    "        # write code here\n",
    "    \n",
    "    def test_on_one(self,ftri):\n",
    "        \"\"\"\n",
    "        Return True if the function ftri works on one random permutation of the permset\n",
    "        \n",
    "        INPUT:\n",
    "        \n",
    "            - ftri, a python function which takes a list input and returns a list\n",
    "        \"\"\"\n",
    "        # write code here\n",
    "    \n",
    "    def test_on_many(self,ftri,k):\n",
    "        \"\"\"\n",
    "        Return True if the function ftri works on k random permutations of the permset\n",
    "        \n",
    "        INPUT:\n",
    "        \n",
    "            - ftri, a python function which takes a list input and returns a list\n",
    "            - k an integer\n",
    "        \"\"\"\n",
    "        # write code here"
   ]
  },
  {
   "cell_type": "code",
   "execution_count": null,
   "metadata": {
    "collapsed": true
   },
   "outputs": [],
   "source": [
    "T = TestTris(Permutations([1,2,3]))\n",
    "T"
   ]
  },
  {
   "cell_type": "code",
   "execution_count": null,
   "metadata": {
    "collapsed": true
   },
   "outputs": [],
   "source": [
    "T.test_on_all(trisoff[0])"
   ]
  },
  {
   "cell_type": "code",
   "execution_count": null,
   "metadata": {
    "collapsed": true
   },
   "outputs": [],
   "source": [
    "T.test_on_one(trisoff[0])"
   ]
  },
  {
   "cell_type": "code",
   "execution_count": null,
   "metadata": {
    "collapsed": true
   },
   "outputs": [],
   "source": [
    "T.test_on_many(trisoff[0],100)"
   ]
  },
  {
   "cell_type": "markdown",
   "metadata": {},
   "source": [
    "Le tableau `trisoff` contient 8 fonctions. Seules 2 fonctionnent dans tous les cas de figures et seule 1 de façon efficace. Trouvez les !"
   ]
  },
  {
   "cell_type": "code",
   "execution_count": null,
   "metadata": {
    "collapsed": true
   },
   "outputs": [],
   "source": []
  }
 ],
 "metadata": {
  "kernelspec": {
   "display_name": "Python 2",
   "language": "python",
   "name": "python2"
  },
  "language_info": {
   "codemirror_mode": {
    "name": "ipython",
    "version": 2
   },
   "file_extension": ".py",
   "mimetype": "text/x-python",
   "name": "python",
   "nbconvert_exporter": "python",
   "pygments_lexer": "ipython2",
   "version": "2.7.13"
  }
 },
 "nbformat": 4,
 "nbformat_minor": 2
}
