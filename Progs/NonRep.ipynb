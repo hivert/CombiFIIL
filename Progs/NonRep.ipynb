{
 "cells": [
  {
   "cell_type": "markdown",
   "metadata": {},
   "source": [
    "# Mots sans k-repetitions"
   ]
  },
  {
   "cell_type": "code",
   "execution_count": 23,
   "metadata": {
    "collapsed": true
   },
   "outputs": [],
   "source": [
    "@cached_function\n",
    "def NRccount(k, n, c):\n",
    "    if n == 0:\n",
    "        return 1\n",
    "    else:    \n",
    "        if c == 0:\n",
    "            return NRccount(k, n-1, k-1)\n",
    "        else:\n",
    "            return (NRccount(k, n-1, c-1) +\n",
    "                    NRccount(k, n-1, k-1))\n",
    "            \n",
    "@cached_function\n",
    "def NRcount(k, n):\n",
    "    if n == 0:\n",
    "        return 1\n",
    "    else:\n",
    "        return 2*NRccount(k, n-1, k-1)\n",
    "    "
   ]
  },
  {
   "cell_type": "code",
   "execution_count": 24,
   "metadata": {
    "collapsed": false
   },
   "outputs": [
    {
     "data": {
      "text/plain": [
       "[1, 2, 4, 6, 10, 16, 26, 42, 68, 110]"
      ]
     },
     "execution_count": 24,
     "metadata": {},
     "output_type": "execute_result"
    }
   ],
   "source": [
    "[NRcount(2, i) for i in range(10)]"
   ]
  },
  {
   "cell_type": "code",
   "execution_count": 25,
   "metadata": {
    "collapsed": false
   },
   "outputs": [
    {
     "data": {
      "text/plain": [
       "1146295688027634168202"
      ]
     },
     "execution_count": 25,
     "metadata": {},
     "output_type": "execute_result"
    }
   ],
   "source": [
    "NRcount(2, 100)"
   ]
  },
  {
   "cell_type": "code",
   "execution_count": 27,
   "metadata": {
    "collapsed": false
   },
   "outputs": [
    {
     "data": {
      "text/plain": [
       "244884047371511046235021189392"
      ]
     },
     "execution_count": 27,
     "metadata": {},
     "output_type": "execute_result"
    }
   ],
   "source": [
    "NRcount(5, 100)"
   ]
  },
  {
   "cell_type": "code",
   "execution_count": null,
   "metadata": {
    "collapsed": true
   },
   "outputs": [],
   "source": []
  },
  {
   "cell_type": "code",
   "execution_count": 7,
   "metadata": {
    "collapsed": false
   },
   "outputs": [],
   "source": [
    "def NRc(k, n, c, i):\n",
    "    if n == 0:\n",
    "        yield []\n",
    "    else:    \n",
    "        ib = 1-i\n",
    "        if c == 0:\n",
    "            for w in NRc(k, n-1, k-1, ib):\n",
    "                yield [ib]+w\n",
    "        else:\n",
    "            for w in NRc(k, n-1, c-1, i):\n",
    "                yield [i]+w\n",
    "            for w in NRc(k, n-1, k-1, ib):\n",
    "                yield [ib]+w\n",
    "            \n",
    "def NR(k, n):\n",
    "    if n == 0:\n",
    "        yield []\n",
    "    else:\n",
    "        for w in NRc(k, n-1, k-1, 0):\n",
    "            yield [0]+w\n",
    "        for w in NRc(k, n-1, k-1, 1):\n",
    "            yield [1]+w\n"
   ]
  },
  {
   "cell_type": "code",
   "execution_count": 12,
   "metadata": {
    "collapsed": false
   },
   "outputs": [
    {
     "data": {
      "text/plain": [
       "[[0, 0, 1, 1, 0],\n",
       " [0, 0, 1, 0, 0],\n",
       " [0, 0, 1, 0, 1],\n",
       " [0, 1, 1, 0, 0],\n",
       " [0, 1, 1, 0, 1],\n",
       " [0, 1, 0, 0, 1],\n",
       " [0, 1, 0, 1, 1],\n",
       " [0, 1, 0, 1, 0],\n",
       " [1, 1, 0, 0, 1],\n",
       " [1, 1, 0, 1, 1],\n",
       " [1, 1, 0, 1, 0],\n",
       " [1, 0, 0, 1, 1],\n",
       " [1, 0, 0, 1, 0],\n",
       " [1, 0, 1, 1, 0],\n",
       " [1, 0, 1, 0, 0],\n",
       " [1, 0, 1, 0, 1]]"
      ]
     },
     "execution_count": 12,
     "metadata": {},
     "output_type": "execute_result"
    }
   ],
   "source": [
    "list(NR(2, 5))"
   ]
  },
  {
   "cell_type": "code",
   "execution_count": 22,
   "metadata": {
    "collapsed": false
   },
   "outputs": [
    {
     "data": {
      "text/plain": [
       "[1, 2, 4, 6, 10, 16, 26, 42, 68, 110]"
      ]
     },
     "execution_count": 22,
     "metadata": {},
     "output_type": "execute_result"
    }
   ],
   "source": [
    "[len(list(NR(2, i))) for i in range(10)]"
   ]
  },
  {
   "cell_type": "code",
   "execution_count": null,
   "metadata": {
    "collapsed": true
   },
   "outputs": [],
   "source": []
  },
  {
   "cell_type": "code",
   "execution_count": null,
   "metadata": {
    "collapsed": true
   },
   "outputs": [],
   "source": []
  },
  {
   "cell_type": "code",
   "execution_count": null,
   "metadata": {
    "collapsed": true
   },
   "outputs": [],
   "source": []
  },
  {
   "cell_type": "code",
   "execution_count": null,
   "metadata": {
    "collapsed": true
   },
   "outputs": [],
   "source": []
  },
  {
   "cell_type": "code",
   "execution_count": null,
   "metadata": {
    "collapsed": true
   },
   "outputs": [],
   "source": []
  },
  {
   "cell_type": "code",
   "execution_count": 28,
   "metadata": {
    "collapsed": false
   },
   "outputs": [
    {
     "data": {
      "text/plain": [
       "[1, 2, 4, 8, 14, 26, 48, 88, 162, 298]"
      ]
     },
     "execution_count": 28,
     "metadata": {},
     "output_type": "execute_result"
    }
   ],
   "source": [
    "[NRcount(3, i) for i in range(10)]"
   ]
  },
  {
   "cell_type": "code",
   "execution_count": 29,
   "metadata": {
    "collapsed": true
   },
   "outputs": [],
   "source": [
    "gf = 1-2*x*(1+x+x^2) / ( -1+x+x^2+x^3 )"
   ]
  },
  {
   "cell_type": "code",
   "execution_count": 30,
   "metadata": {
    "collapsed": false
   },
   "outputs": [
    {
     "data": {
      "text/plain": [
       "-2*(x^2 + x + 1)*x/(x^3 + x^2 + x - 1) + 1"
      ]
     },
     "execution_count": 30,
     "metadata": {},
     "output_type": "execute_result"
    }
   ],
   "source": [
    "gf"
   ]
  },
  {
   "cell_type": "code",
   "execution_count": 33,
   "metadata": {
    "collapsed": false
   },
   "outputs": [
    {
     "data": {
      "text/plain": [
       "242830*x^20 + 132024*x^19 + 71780*x^18 + 39026*x^17 + 21218*x^16 + 11536*x^15 + 6272*x^14 + 3410*x^13 + 1854*x^12 + 1008*x^11 + 548*x^10 + 298*x^9 + 162*x^8 + 88*x^7 + 48*x^6 + 26*x^5 + 14*x^4 + 8*x^3 + 4*x^2 + 2*x + 1"
      ]
     },
     "execution_count": 33,
     "metadata": {},
     "output_type": "execute_result"
    }
   ],
   "source": [
    "taylor(gf, x, 0, 20)"
   ]
  },
  {
   "cell_type": "code",
   "execution_count": null,
   "metadata": {
    "collapsed": true
   },
   "outputs": [],
   "source": []
  }
 ],
 "metadata": {
  "kernelspec": {
   "display_name": "SageMath 7.6.rc0",
   "language": "",
   "name": "sagemath"
  },
  "language_info": {
   "codemirror_mode": {
    "name": "ipython",
    "version": 2
   },
   "file_extension": ".py",
   "mimetype": "text/x-python",
   "name": "python",
   "nbconvert_exporter": "python",
   "pygments_lexer": "ipython2",
   "version": "2.7.13"
  }
 },
 "nbformat": 4,
 "nbformat_minor": 2
}
