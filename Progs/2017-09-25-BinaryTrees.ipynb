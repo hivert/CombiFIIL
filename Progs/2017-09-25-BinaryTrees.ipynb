{
 "cells": [
  {
   "cell_type": "code",
   "execution_count": 1,
   "metadata": {
    "collapsed": false
   },
   "outputs": [
    {
     "data": {
      "text/plain": [
       "(None, None)"
      ]
     },
     "execution_count": 1,
     "metadata": {},
     "output_type": "execute_result"
    }
   ],
   "source": [
    "(None, None)"
   ]
  },
  {
   "cell_type": "code",
   "execution_count": 2,
   "metadata": {
    "collapsed": true
   },
   "outputs": [],
   "source": [
    "def BTiter(n):\n",
    "    if n == 0:\n",
    "        yield None\n",
    "    else:\n",
    "        for i in range(n):\n",
    "            for g in BTiter(i):\n",
    "                for d in BTiter(n-i-1):\n",
    "                    yield (g, d)"
   ]
  },
  {
   "cell_type": "code",
   "execution_count": 3,
   "metadata": {
    "collapsed": false
   },
   "outputs": [
    {
     "data": {
      "text/plain": [
       "[(None, (None, (None, None))),\n",
       " (None, ((None, None), None)),\n",
       " ((None, None), (None, None)),\n",
       " ((None, (None, None)), None),\n",
       " (((None, None), None), None)]"
      ]
     },
     "execution_count": 3,
     "metadata": {},
     "output_type": "execute_result"
    }
   ],
   "source": [
    "list(BTiter(3))"
   ]
  },
  {
   "cell_type": "code",
   "execution_count": 4,
   "metadata": {
    "collapsed": false
   },
   "outputs": [
    {
     "data": {
      "text/plain": [
       "[1, 1, 2, 5, 14, 42, 132, 429, 1430, 4862]"
      ]
     },
     "execution_count": 4,
     "metadata": {},
     "output_type": "execute_result"
    }
   ],
   "source": [
    "[len(list(BTiter(i))) for i in range(10)]"
   ]
  },
  {
   "cell_type": "code",
   "execution_count": null,
   "metadata": {
    "collapsed": true
   },
   "outputs": [],
   "source": []
  },
  {
   "cell_type": "code",
   "execution_count": null,
   "metadata": {
    "collapsed": true
   },
   "outputs": [],
   "source": []
  },
  {
   "cell_type": "code",
   "execution_count": 5,
   "metadata": {
    "collapsed": true
   },
   "outputs": [],
   "source": [
    "@cached_function\n",
    "def catalan(n):\n",
    "    if n == 0:\n",
    "        return 1\n",
    "    else:\n",
    "        return sum(catalan(i)*catalan(n-1-i) for i in range(n))"
   ]
  },
  {
   "cell_type": "code",
   "execution_count": 6,
   "metadata": {
    "collapsed": false
   },
   "outputs": [
    {
     "data": {
      "text/plain": [
       "[1, 1, 2, 5, 14, 42, 132, 429, 1430, 4862]"
      ]
     },
     "execution_count": 6,
     "metadata": {},
     "output_type": "execute_result"
    }
   ],
   "source": [
    "[catalan(n) for n in range(10)]"
   ]
  },
  {
   "cell_type": "code",
   "execution_count": 7,
   "metadata": {
    "collapsed": true
   },
   "outputs": [],
   "source": [
    "def BTunrank(n, r):\n",
    "    if n == 0:\n",
    "        if r == 0:\n",
    "            return None\n",
    "        else:\n",
    "            raise IndexError\n",
    "    iblock = 0\n",
    "    tailleg = catalan(iblock)\n",
    "    tailled = catalan(n - 1 - iblock)\n",
    "    while r >= tailleg * tailled:\n",
    "        r -= tailleg * tailled\n",
    "        iblock += 1\n",
    "        if iblock > n - 1:\n",
    "            raise IndexError\n",
    "        tailleg = catalan(iblock)\n",
    "        tailled = catalan(n - 1 - iblock)\n",
    "    # produit cartesien \n",
    "    igch = r // tailled\n",
    "    idte = r % tailled\n",
    "    return (BTunrank(iblock, igch), BTunrank(n - 1 - iblock, idte))\n",
    "        "
   ]
  },
  {
   "cell_type": "code",
   "execution_count": 8,
   "metadata": {
    "collapsed": false
   },
   "outputs": [
    {
     "data": {
      "text/plain": [
       "((None, (None, (None, None))), ((None, None), None))"
      ]
     },
     "execution_count": 8,
     "metadata": {},
     "output_type": "execute_result"
    }
   ],
   "source": [
    "BTunrank(6, 67)"
   ]
  },
  {
   "cell_type": "code",
   "execution_count": 9,
   "metadata": {
    "collapsed": false
   },
   "outputs": [
    {
     "data": {
      "text/plain": [
       "[True, True, True, True, True, True, True, True, True, True]"
      ]
     },
     "execution_count": 9,
     "metadata": {},
     "output_type": "execute_result"
    }
   ],
   "source": [
    "[list(BTiter(N)) == [BTunrank(N, i) for i in range(catalan(N))] \n",
    " for N in range(10)]"
   ]
  },
  {
   "cell_type": "code",
   "execution_count": 10,
   "metadata": {
    "collapsed": false
   },
   "outputs": [
    {
     "data": {
      "text/plain": [
       "1978261657756160653623774456"
      ]
     },
     "execution_count": 10,
     "metadata": {},
     "output_type": "execute_result"
    }
   ],
   "source": [
    "catalan(50)"
   ]
  },
  {
   "cell_type": "code",
   "execution_count": 11,
   "metadata": {
    "collapsed": true
   },
   "outputs": [],
   "source": [
    "x = randint(0, catalan(50))"
   ]
  },
  {
   "cell_type": "code",
   "execution_count": 12,
   "metadata": {
    "collapsed": false
   },
   "outputs": [
    {
     "data": {
      "text/plain": [
       "945938049157027425235408828L"
      ]
     },
     "execution_count": 12,
     "metadata": {},
     "output_type": "execute_result"
    }
   ],
   "source": [
    "x"
   ]
  },
  {
   "cell_type": "code",
   "execution_count": 13,
   "metadata": {
    "collapsed": false
   },
   "outputs": [
    {
     "data": {
      "text/plain": [
       "(((None, (None, None)),\n",
       "  (((None, (None, None)), (None, None)),\n",
       "   ((((None, None), None), (None, (None, (None, ((None, None), None))))),\n",
       "    (None, None)))),\n",
       " ((None,\n",
       "   ((None,\n",
       "     ((((None, None), None), None),\n",
       "      (None,\n",
       "       (((((None, None), (None, (None, (None, None)))),\n",
       "          ((None, None),\n",
       "           (((None, ((None, None), (None, None))),\n",
       "             (None, (None, ((None, (None, None)), None)))),\n",
       "            (None, None)))),\n",
       "         None),\n",
       "        None)))),\n",
       "    None)),\n",
       "  None))"
      ]
     },
     "execution_count": 13,
     "metadata": {},
     "output_type": "execute_result"
    }
   ],
   "source": [
    "BTunrank(50, x)"
   ]
  },
  {
   "cell_type": "code",
   "execution_count": 14,
   "metadata": {
    "collapsed": true
   },
   "outputs": [],
   "source": [
    "def prof(t):\n",
    "    if t is None:\n",
    "        return 0\n",
    "    else:\n",
    "        return 1 + max(prof(t[0]), prof(t[1]))"
   ]
  },
  {
   "cell_type": "code",
   "execution_count": 15,
   "metadata": {
    "collapsed": false
   },
   "outputs": [
    {
     "data": {
      "text/plain": [
       "18"
      ]
     },
     "execution_count": 15,
     "metadata": {},
     "output_type": "execute_result"
    }
   ],
   "source": [
    "prof(BTunrank(50, x))"
   ]
  },
  {
   "cell_type": "code",
   "execution_count": 16,
   "metadata": {
    "collapsed": true
   },
   "outputs": [],
   "source": [
    "def BTrandom(n):\n",
    "    return BTunrank(n, randint(0, catalan(n)-1))"
   ]
  },
  {
   "cell_type": "code",
   "execution_count": 17,
   "metadata": {
    "collapsed": false
   },
   "outputs": [
    {
     "data": {
      "text/plain": [
       "((((None, None), None), (((None, None), None), (None, (None, (None, None))))),\n",
       " None)"
      ]
     },
     "execution_count": 17,
     "metadata": {},
     "output_type": "execute_result"
    }
   ],
   "source": [
    "BTrandom(10)"
   ]
  },
  {
   "cell_type": "code",
   "execution_count": 18,
   "metadata": {
    "collapsed": false
   },
   "outputs": [
    {
     "data": {
      "text/plain": [
       "44.8300000000000"
      ]
     },
     "execution_count": 18,
     "metadata": {},
     "output_type": "execute_result"
    }
   ],
   "source": [
    "rep = 100\n",
    "1./rep*sum(prof(BTrandom(200)) for _ in range(100))"
   ]
  },
  {
   "cell_type": "code",
   "execution_count": 19,
   "metadata": {
    "collapsed": true
   },
   "outputs": [],
   "source": [
    "def moy_prof(n):\n",
    "    rep = 100\n",
    "    return 1./rep*sum(prof(BTrandom(n)) for _ in range(100))    "
   ]
  },
  {
   "cell_type": "code",
   "execution_count": 20,
   "metadata": {
    "collapsed": false
   },
   "outputs": [
    {
     "data": {
      "image/png": "[encoded data removed]",
      "text/plain": [
       "Graphics object consisting of 9 graphics primitives"
      ]
     },
     "execution_count": 20,
     "metadata": {},
     "output_type": "execute_result"
    }
   ],
   "source": [
    "sum(point((i,moy_prof(i))) for i in [1,2,4,8,16,32,64,128,256])"
   ]
  },
  {
   "cell_type": "code",
   "execution_count": 21,
   "metadata": {
    "collapsed": false
   },
   "outputs": [
    {
     "data": {
      "image/png": "[encoded data removed]",
      "text/plain": [
       "Graphics object consisting of 9 graphics primitives"
      ]
     },
     "execution_count": 21,
     "metadata": {},
     "output_type": "execute_result"
    }
   ],
   "source": [
    "sum(point((log(i),log(moy_prof(i)))) for i in [1,2,4,8,16,32,64,128,256])"
   ]
  },
  {
   "cell_type": "code",
   "execution_count": 22,
   "metadata": {
    "collapsed": false
   },
   "outputs": [
    {
     "data": {
      "text/plain": [
       "[(0.000000000000000, 0.000000000000000),\n",
       " (0.693147180559945, 0.693147180559945),\n",
       " (1.38629436111989, 1.28923264827676),\n",
       " (2.07944154167984, 1.83577635464483),\n",
       " (2.77258872223978, 2.25444471766611),\n",
       " (3.46573590279973, 2.76316950032329),\n",
       " (4.15888308335967, 3.13200989184654),\n",
       " (4.85203026391962, 3.55420455078733),\n",
       " (5.54517744447956, 3.88341774841781)]"
      ]
     },
     "execution_count": 22,
     "metadata": {},
     "output_type": "execute_result"
    }
   ],
   "source": [
    "[(log(1.*i),log(moy_prof(i))) for i in [1,2,4,8,16,32,64,128,256]]"
   ]
  },
  {
   "cell_type": "code",
   "execution_count": null,
   "metadata": {
    "collapsed": true
   },
   "outputs": [],
   "source": []
  }
 ],
 "metadata": {
  "kernelspec": {
   "display_name": "SageMath 7.6.rc0",
   "language": "",
   "name": "sagemath"
  },
  "language_info": {
   "codemirror_mode": {
    "name": "ipython",
    "version": 2
   },
   "file_extension": ".py",
   "mimetype": "text/x-python",
   "name": "python",
   "nbconvert_exporter": "python",
   "pygments_lexer": "ipython2",
   "version": "2.7.13"
  }
 },
 "nbformat": 4,
 "nbformat_minor": 2
}
