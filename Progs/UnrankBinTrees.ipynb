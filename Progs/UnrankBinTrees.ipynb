{
 "cells": [
  {
   "cell_type": "markdown",
   "metadata": {},
   "source": [
    "<h1>List and Unrank for Binary Trees of a Given Number of Internal Nodes</h1>\n",
    "<ul>\n",
    "<li>Trees are represented by tuple. </li>\n",
    "<li>The empty tree is represented by None</li>\n",
    "</ul>"
   ]
  },
  {
   "cell_type": "code",
   "execution_count": null,
   "metadata": {
    "collapsed": false
   },
   "outputs": [],
   "source": [
    "def listTree(n):\n",
    "    if n == 0:\n",
    "        return [None]\n",
    "    else:\n",
    "        res = []\n",
    "        for i in range(n):\n",
    "            for g in listTree(i):\n",
    "                for d in listTree(n-1-i):\n",
    "                    res.append((g,d))\n",
    "        return res"
   ]
  },
  {
   "cell_type": "code",
   "execution_count": 2,
   "metadata": {
    "collapsed": false
   },
   "outputs": [
    {
     "name": "stdout",
     "output_type": "stream",
     "text": [
      "(None, (None, (None, None)))\n",
      "(None, ((None, None), None))\n",
      "((None, None), (None, None))\n",
      "((None, (None, None)), None)\n",
      "(((None, None), None), None)\n"
     ]
    }
   ],
   "source": [
    "for t in listTree(3): print t"
   ]
  },
  {
   "cell_type": "code",
   "execution_count": null,
   "metadata": {
    "collapsed": false
   },
   "outputs": [],
   "source": []
  },
  {
   "cell_type": "markdown",
   "metadata": {},
   "source": [
    "<h3>Catalan numbers (slow algorithm, cached)</h3>"
   ]
  },
  {
   "cell_type": "code",
   "execution_count": 3,
   "metadata": {
    "collapsed": false
   },
   "outputs": [],
   "source": [
    "@cached_function\n",
    "def catalan(n):\n",
    "    print \"Calcul de catalan(%i)\"%n\n",
    "    if n == 0:\n",
    "        return 1\n",
    "    else: \n",
    "        return sum(catalan(i)*catalan(n-1-i) for i in range(n))"
   ]
  },
  {
   "cell_type": "code",
   "execution_count": 4,
   "metadata": {
    "collapsed": false
   },
   "outputs": [
    {
     "name": "stdout",
     "output_type": "stream",
     "text": [
      "Calcul de catalan(10)\n",
      "Calcul de catalan(0)\n",
      "Calcul de catalan(9)\n",
      "Calcul de catalan(8)\n",
      "Calcul de catalan(7)\n",
      "Calcul de catalan(6)\n",
      "Calcul de catalan(5)\n",
      "Calcul de catalan(4)\n",
      "Calcul de catalan(3)\n",
      "Calcul de catalan(2)\n",
      "Calcul de catalan(1)\n"
     ]
    },
    {
     "data": {
      "text/plain": [
       "16796"
      ]
     },
     "execution_count": 4,
     "metadata": {},
     "output_type": "execute_result"
    }
   ],
   "source": [
    "catalan(10)"
   ]
  },
  {
   "cell_type": "code",
   "execution_count": 5,
   "metadata": {
    "collapsed": false
   },
   "outputs": [
    {
     "data": {
      "text/plain": [
       "[1, 1, 2, 5, 14, 42, 132, 429, 1430, 4862]"
      ]
     },
     "execution_count": 5,
     "metadata": {},
     "output_type": "execute_result"
    }
   ],
   "source": [
    "[catalan(i) for i in range(10)]"
   ]
  },
  {
   "cell_type": "code",
   "execution_count": null,
   "metadata": {
    "collapsed": false
   },
   "outputs": [],
   "source": []
  },
  {
   "cell_type": "markdown",
   "metadata": {},
   "source": [
    "<h3>Unrank using cached Catalan</h3>"
   ]
  },
  {
   "cell_type": "code",
   "execution_count": 6,
   "metadata": {
    "collapsed": false
   },
   "outputs": [],
   "source": [
    "def unrankTree(n, i):\n",
    "    if i >= catalan(n):\n",
    "        raise ValueError, (n, i)\n",
    "    elif n == 0:\n",
    "        return None\n",
    "    else:\n",
    "        ng = 0\n",
    "        while i >= catalan(ng) * catalan(n-1-ng):\n",
    "            i -= catalan(ng) * catalan(n-1-ng)\n",
    "            ng += 1\n",
    "        ig = i // catalan(n-1-ng)\n",
    "        id = i % catalan(n-1-ng)\n",
    "        return (unrankTree(ng, ig), unrankTree(n-1-ng, id))"
   ]
  },
  {
   "cell_type": "code",
   "execution_count": 7,
   "metadata": {
    "collapsed": false
   },
   "outputs": [
    {
     "data": {
      "text/plain": [
       "True"
      ]
     },
     "execution_count": 7,
     "metadata": {},
     "output_type": "execute_result"
    }
   ],
   "source": [
    "N = 10\n",
    "l = [unrankTree(N, i) for i in range(catalan(N))]\n",
    "l == listTree(N)"
   ]
  },
  {
   "cell_type": "code",
   "execution_count": 8,
   "metadata": {
    "collapsed": false
   },
   "outputs": [],
   "source": [
    "N = 100"
   ]
  },
  {
   "cell_type": "code",
   "execution_count": 9,
   "metadata": {
    "collapsed": false
   },
   "outputs": [
    {
     "name": "stdout",
     "output_type": "stream",
     "text": [
      "Calcul de catalan(100)\n",
      "Calcul de catalan(99)\n",
      "Calcul de catalan(98)\n",
      "Calcul de catalan(97)\n",
      "Calcul de catalan(96)\n",
      "Calcul de catalan(95)\n",
      "Calcul de catalan(94)\n",
      "Calcul de catalan(93)\n",
      "Calcul de catalan(92)\n",
      "Calcul de catalan(91)\n",
      "Calcul de catalan(90)\n",
      "Calcul de catalan(89)\n",
      "Calcul de catalan(88)\n",
      "Calcul de catalan(87)\n",
      "Calcul de catalan(86)\n",
      "Calcul de catalan(85)\n",
      "Calcul de catalan(84)\n",
      "Calcul de catalan(83)\n",
      "Calcul de catalan(82)\n",
      "Calcul de catalan(81)\n",
      "Calcul de catalan(80)\n",
      "Calcul de catalan(79)\n",
      "Calcul de catalan(78)\n",
      "Calcul de catalan(77)\n",
      "Calcul de catalan(76)\n",
      "Calcul de catalan(75)\n",
      "Calcul de catalan(74)\n",
      "Calcul de catalan(73)\n",
      "Calcul de catalan(72)\n",
      "Calcul de catalan(71)\n",
      "Calcul de catalan(70)\n",
      "Calcul de catalan(69)\n",
      "Calcul de catalan(68)\n",
      "Calcul de catalan(67)\n",
      "Calcul de catalan(66)\n",
      "Calcul de catalan(65)\n",
      "Calcul de catalan(64)\n",
      "Calcul de catalan(63)\n",
      "Calcul de catalan(62)\n",
      "Calcul de catalan(61)\n",
      "Calcul de catalan(60)\n",
      "Calcul de catalan(59)\n",
      "Calcul de catalan(58)\n",
      "Calcul de catalan(57)\n",
      "Calcul de catalan(56)\n",
      "Calcul de catalan(55)\n",
      "Calcul de catalan(54)\n",
      "Calcul de catalan(53)\n",
      "Calcul de catalan(52)\n",
      "Calcul de catalan(51)\n",
      "Calcul de catalan(50)\n",
      "Calcul de catalan(49)\n",
      "Calcul de catalan(48)\n",
      "Calcul de catalan(47)\n",
      "Calcul de catalan(46)\n",
      "Calcul de catalan(45)\n",
      "Calcul de catalan(44)\n",
      "Calcul de catalan(43)\n",
      "Calcul de catalan(42)\n",
      "Calcul de catalan(41)\n",
      "Calcul de catalan(40)\n",
      "Calcul de catalan(39)\n",
      "Calcul de catalan(38)\n",
      "Calcul de catalan(37)\n",
      "Calcul de catalan(36)\n",
      "Calcul de catalan(35)\n",
      "Calcul de catalan(34)\n",
      "Calcul de catalan(33)\n",
      "Calcul de catalan(32)\n",
      "Calcul de catalan(31)\n",
      "Calcul de catalan(30)\n",
      "Calcul de catalan(29)\n",
      "Calcul de catalan(28)\n",
      "Calcul de catalan(27)\n",
      "Calcul de catalan(26)\n",
      "Calcul de catalan(25)\n",
      "Calcul de catalan(24)\n",
      "Calcul de catalan(23)\n",
      "Calcul de catalan(22)\n",
      "Calcul de catalan(21)\n",
      "Calcul de catalan(20)\n",
      "Calcul de catalan(19)\n",
      "Calcul de catalan(18)\n",
      "Calcul de catalan(17)\n",
      "Calcul de catalan(16)\n",
      "Calcul de catalan(15)\n",
      "Calcul de catalan(14)\n",
      "Calcul de catalan(13)\n",
      "Calcul de catalan(12)\n",
      "Calcul de catalan(11)\n"
     ]
    }
   ],
   "source": [
    "c = catalan(100)"
   ]
  },
  {
   "cell_type": "code",
   "execution_count": 10,
   "metadata": {
    "collapsed": false
   },
   "outputs": [
    {
     "data": {
      "text/plain": [
       "45230921115097425702465058175213294713723592626875170549L"
      ]
     },
     "execution_count": 10,
     "metadata": {},
     "output_type": "execute_result"
    }
   ],
   "source": [
    "h = randint(0, c); h"
   ]
  },
  {
   "cell_type": "code",
   "execution_count": 11,
   "metadata": {
    "collapsed": false
   },
   "outputs": [
    {
     "data": {
      "text/plain": [
       "(None,\n",
       " (None,\n",
       "  ((None,\n",
       "    (((None,\n",
       "       (None,\n",
       "        ((None, ((None, None), None)),\n",
       "         ((None,\n",
       "           (None,\n",
       "            (((None, (None, (None, ((None, None), (None, None))))), None),\n",
       "             (((None, None), ((None, None), None)),\n",
       "              ((None,\n",
       "                ((None, None),\n",
       "                 ((None, (None, None)),\n",
       "                  (None,\n",
       "                   (None,\n",
       "                    ((((None, None), None),\n",
       "                      (None,\n",
       "                       ((((None, None),\n",
       "                          (None,\n",
       "                           (((None, (((None, None), None), None)),\n",
       "                             (None, None)),\n",
       "                            ((None, None), None)))),\n",
       "                         None),\n",
       "                        (None, (None, None))))),\n",
       "                     (((None, (None, None)), None), (None, None)))))))),\n",
       "               None))))),\n",
       "          None)))),\n",
       "      ((None, ((None, None), (None, None))),\n",
       "       (((((None, (None, None)), None), (None, None)), None),\n",
       "        ((None,\n",
       "          ((((None, None), ((None, None), (None, None))), None),\n",
       "           (((None, ((None, None), None)), (None, None)), None))),\n",
       "         (None, None))))),\n",
       "     (None,\n",
       "      ((None, None), ((((None, None), None), ((None, None), None)), None))))),\n",
       "   None)))"
      ]
     },
     "execution_count": 11,
     "metadata": {},
     "output_type": "execute_result"
    }
   ],
   "source": [
    "unrankTree(N, h)"
   ]
  },
  {
   "cell_type": "code",
   "execution_count": 12,
   "metadata": {
    "collapsed": false
   },
   "outputs": [],
   "source": [
    "def prof(tr):\n",
    "    if tr is None: return 0\n",
    "    else: \n",
    "        return 1+max(prof(tr[0]), prof(tr[1]))"
   ]
  },
  {
   "cell_type": "code",
   "execution_count": 13,
   "metadata": {
    "collapsed": false
   },
   "outputs": [
    {
     "data": {
      "text/plain": [
       "33"
      ]
     },
     "execution_count": 13,
     "metadata": {},
     "output_type": "execute_result"
    }
   ],
   "source": [
    "prof(unrankTree(N, h))"
   ]
  },
  {
   "cell_type": "code",
   "execution_count": null,
   "metadata": {
    "collapsed": false
   },
   "outputs": [],
   "source": []
  }
 ],
 "metadata": {
  "kernelspec": {
   "display_name": "SageMath 7.6.rc0",
   "language": "",
   "name": "sagemath"
  },
  "language": "python",
  "language_info": {
   "codemirror_mode": {
    "name": "ipython",
    "version": 2
   },
   "file_extension": ".py",
   "mimetype": "text/x-python",
   "name": "python",
   "nbconvert_exporter": "python",
   "pygments_lexer": "ipython2",
   "version": "2.7.13"
  }
 },
 "nbformat": 4,
 "nbformat_minor": 2
}
