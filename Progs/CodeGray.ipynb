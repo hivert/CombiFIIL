{
 "cells": [
  {
   "cell_type": "markdown",
   "metadata": {},
   "source": [
    "# Code de Gray pour les mots binaires"
   ]
  },
  {
   "cell_type": "code",
   "execution_count": 1,
   "metadata": {},
   "outputs": [],
   "source": [
    "def listGray(n):\n",
    "    if n == 0:\n",
    "        return [[]]\n",
    "    else:\n",
    "        rec = listGray(n-1)\n",
    "        return [[0] + b for b in rec] + [[1] + b for b in rec[::-1]]"
   ]
  },
  {
   "cell_type": "code",
   "execution_count": 2,
   "metadata": {},
   "outputs": [
    {
     "data": {
      "text/plain": [
       "[[0], [1]]"
      ]
     },
     "execution_count": 2,
     "metadata": {},
     "output_type": "execute_result"
    }
   ],
   "source": [
    "listGray(1)"
   ]
  },
  {
   "cell_type": "code",
   "execution_count": 3,
   "metadata": {},
   "outputs": [
    {
     "data": {
      "text/plain": [
       "[[0, 0], [0, 1], [1, 1], [1, 0]]"
      ]
     },
     "execution_count": 3,
     "metadata": {},
     "output_type": "execute_result"
    }
   ],
   "source": [
    "listGray(2)"
   ]
  },
  {
   "cell_type": "code",
   "execution_count": 4,
   "metadata": {},
   "outputs": [
    {
     "data": {
      "text/plain": [
       "[[0, 0, 0],\n",
       " [0, 0, 1],\n",
       " [0, 1, 1],\n",
       " [0, 1, 0],\n",
       " [1, 1, 0],\n",
       " [1, 1, 1],\n",
       " [1, 0, 1],\n",
       " [1, 0, 0]]"
      ]
     },
     "execution_count": 4,
     "metadata": {},
     "output_type": "execute_result"
    }
   ],
   "source": [
    "listGray(3)"
   ]
  },
  {
   "cell_type": "code",
   "execution_count": 5,
   "metadata": {},
   "outputs": [
    {
     "data": {
      "text/plain": [
       "[[0, 0, 0, 0],\n",
       " [0, 0, 0, 1],\n",
       " [0, 0, 1, 1],\n",
       " [0, 0, 1, 0],\n",
       " [0, 1, 1, 0],\n",
       " [0, 1, 1, 1],\n",
       " [0, 1, 0, 1],\n",
       " [0, 1, 0, 0],\n",
       " [1, 1, 0, 0],\n",
       " [1, 1, 0, 1],\n",
       " [1, 1, 1, 1],\n",
       " [1, 1, 1, 0],\n",
       " [1, 0, 1, 0],\n",
       " [1, 0, 1, 1],\n",
       " [1, 0, 0, 1],\n",
       " [1, 0, 0, 0]]"
      ]
     },
     "execution_count": 5,
     "metadata": {},
     "output_type": "execute_result"
    }
   ],
   "source": [
    "listGray(4)"
   ]
  },
  {
   "cell_type": "markdown",
   "metadata": {},
   "source": [
    "### Affichage du nombre, de l'ecriture binaire et du code gray correspondant"
   ]
  },
  {
   "cell_type": "code",
   "execution_count": 6,
   "metadata": {},
   "outputs": [
    {
     "data": {
      "text/plain": [
       "[(0, [0, 0, 0, 0, 0], [0, 0, 0, 0, 0]),\n",
       " (1, [0, 0, 0, 0, 1], [0, 0, 0, 0, 1]),\n",
       " (2, [0, 0, 0, 1, 0], [0, 0, 0, 1, 1]),\n",
       " (3, [0, 0, 0, 1, 1], [0, 0, 0, 1, 0]),\n",
       " (4, [0, 0, 1, 0, 0], [0, 0, 1, 1, 0]),\n",
       " (5, [0, 0, 1, 0, 1], [0, 0, 1, 1, 1]),\n",
       " (6, [0, 0, 1, 1, 0], [0, 0, 1, 0, 1]),\n",
       " (7, [0, 0, 1, 1, 1], [0, 0, 1, 0, 0]),\n",
       " (8, [0, 1, 0, 0, 0], [0, 1, 1, 0, 0]),\n",
       " (9, [0, 1, 0, 0, 1], [0, 1, 1, 0, 1]),\n",
       " (10, [0, 1, 0, 1, 0], [0, 1, 1, 1, 1]),\n",
       " (11, [0, 1, 0, 1, 1], [0, 1, 1, 1, 0]),\n",
       " (12, [0, 1, 1, 0, 0], [0, 1, 0, 1, 0]),\n",
       " (13, [0, 1, 1, 0, 1], [0, 1, 0, 1, 1]),\n",
       " (14, [0, 1, 1, 1, 0], [0, 1, 0, 0, 1]),\n",
       " (15, [0, 1, 1, 1, 1], [0, 1, 0, 0, 0]),\n",
       " (16, [1, 0, 0, 0, 0], [1, 1, 0, 0, 0]),\n",
       " (17, [1, 0, 0, 0, 1], [1, 1, 0, 0, 1]),\n",
       " (18, [1, 0, 0, 1, 0], [1, 1, 0, 1, 1]),\n",
       " (19, [1, 0, 0, 1, 1], [1, 1, 0, 1, 0]),\n",
       " (20, [1, 0, 1, 0, 0], [1, 1, 1, 1, 0]),\n",
       " (21, [1, 0, 1, 0, 1], [1, 1, 1, 1, 1]),\n",
       " (22, [1, 0, 1, 1, 0], [1, 1, 1, 0, 1]),\n",
       " (23, [1, 0, 1, 1, 1], [1, 1, 1, 0, 0]),\n",
       " (24, [1, 1, 0, 0, 0], [1, 0, 1, 0, 0]),\n",
       " (25, [1, 1, 0, 0, 1], [1, 0, 1, 0, 1]),\n",
       " (26, [1, 1, 0, 1, 0], [1, 0, 1, 1, 1]),\n",
       " (27, [1, 1, 0, 1, 1], [1, 0, 1, 1, 0]),\n",
       " (28, [1, 1, 1, 0, 0], [1, 0, 0, 1, 0]),\n",
       " (29, [1, 1, 1, 0, 1], [1, 0, 0, 1, 1]),\n",
       " (30, [1, 1, 1, 1, 0], [1, 0, 0, 0, 1]),\n",
       " (31, [1, 1, 1, 1, 1], [1, 0, 0, 0, 0])]"
      ]
     },
     "execution_count": 6,
     "metadata": {},
     "output_type": "execute_result"
    }
   ],
   "source": [
    "N = 5\n",
    "[(i, ZZ(i).digits(2, padto=N)[::-1], v) \n",
    " for i, v in enumerate(listGray(N))]"
   ]
  },
  {
   "cell_type": "code",
   "execution_count": null,
   "metadata": {},
   "outputs": [],
   "source": []
  },
  {
   "cell_type": "code",
   "execution_count": null,
   "metadata": {},
   "outputs": [],
   "source": []
  },
  {
   "cell_type": "markdown",
   "metadata": {},
   "source": [
    "### Iterateur pour code Gray Binaire"
   ]
  },
  {
   "cell_type": "code",
   "execution_count": 7,
   "metadata": {},
   "outputs": [],
   "source": [
    "def binaryIterGray(n):\n",
    "    gr  = [0]*n\n",
    "    pos = range(n+1)\n",
    "    yield gr\n",
    "    while pos[0] != n:\n",
    "        i = pos[0]\n",
    "        gr[i] = 1 - gr[i]\n",
    "        pos[0] = 0\n",
    "        pos[i] = pos[i+1]\n",
    "        pos[i+1] = i+1\n",
    "        yield gr"
   ]
  },
  {
   "cell_type": "code",
   "execution_count": 8,
   "metadata": {
    "scrolled": true
   },
   "outputs": [
    {
     "name": "stdout",
     "output_type": "stream",
     "text": [
      "[0, 0, 0, 0]\n",
      "[1, 0, 0, 0]\n",
      "[1, 1, 0, 0]\n",
      "[0, 1, 0, 0]\n",
      "[0, 1, 1, 0]\n",
      "[1, 1, 1, 0]\n",
      "[1, 0, 1, 0]\n",
      "[0, 0, 1, 0]\n",
      "[0, 0, 1, 1]\n",
      "[1, 0, 1, 1]\n",
      "[1, 1, 1, 1]\n",
      "[0, 1, 1, 1]\n",
      "[0, 1, 0, 1]\n",
      "[1, 1, 0, 1]\n",
      "[1, 0, 0, 1]\n",
      "[0, 0, 0, 1]\n"
     ]
    }
   ],
   "source": [
    "for gr in binaryIterGray(4):\n",
    "    print gr"
   ]
  },
  {
   "cell_type": "markdown",
   "metadata": {},
   "source": [
    "Remarque: dans l'affichage précédent, les poids faibles sont à gauche. Voici la liste dans l'ordre naturel:"
   ]
  },
  {
   "cell_type": "code",
   "execution_count": 9,
   "metadata": {},
   "outputs": [
    {
     "name": "stdout",
     "output_type": "stream",
     "text": [
      "[0, 0, 0, 0]\n",
      "[0, 0, 0, 1]\n",
      "[0, 0, 1, 1]\n",
      "[0, 0, 1, 0]\n",
      "[0, 1, 1, 0]\n",
      "[0, 1, 1, 1]\n",
      "[0, 1, 0, 1]\n",
      "[0, 1, 0, 0]\n",
      "[1, 1, 0, 0]\n",
      "[1, 1, 0, 1]\n",
      "[1, 1, 1, 1]\n",
      "[1, 1, 1, 0]\n",
      "[1, 0, 1, 0]\n",
      "[1, 0, 1, 1]\n",
      "[1, 0, 0, 1]\n",
      "[1, 0, 0, 0]\n"
     ]
    }
   ],
   "source": [
    "for gr in binaryIterGray(4):\n",
    "    print gr[::-1]"
   ]
  },
  {
   "cell_type": "markdown",
   "metadata": {},
   "source": [
    "### Attention, il faut copier la liste\n",
    "\n",
    "Pour avoir une complexite optimale, l'itérateur travaille en place sur la liste. Si l'on veut la stocker, il faut en faire une copie:"
   ]
  },
  {
   "cell_type": "code",
   "execution_count": 10,
   "metadata": {
    "scrolled": true
   },
   "outputs": [
    {
     "data": {
      "text/plain": [
       "[[0, 0, 1],\n",
       " [0, 0, 1],\n",
       " [0, 0, 1],\n",
       " [0, 0, 1],\n",
       " [0, 0, 1],\n",
       " [0, 0, 1],\n",
       " [0, 0, 1],\n",
       " [0, 0, 1]]"
      ]
     },
     "execution_count": 10,
     "metadata": {},
     "output_type": "execute_result"
    }
   ],
   "source": [
    "[l for l in binaryIterGray(3)] #bug"
   ]
  },
  {
   "cell_type": "markdown",
   "metadata": {},
   "source": [
    "### Version correcte"
   ]
  },
  {
   "cell_type": "code",
   "execution_count": 11,
   "metadata": {
    "scrolled": true
   },
   "outputs": [
    {
     "data": {
      "text/plain": [
       "[[0, 0, 0],\n",
       " [1, 0, 0],\n",
       " [1, 1, 0],\n",
       " [0, 1, 0],\n",
       " [0, 1, 1],\n",
       " [1, 1, 1],\n",
       " [1, 0, 1],\n",
       " [0, 0, 1]]"
      ]
     },
     "execution_count": 11,
     "metadata": {},
     "output_type": "execute_result"
    }
   ],
   "source": [
    "[list(l) for l in binaryIterGray(3)]"
   ]
  },
  {
   "cell_type": "markdown",
   "metadata": {},
   "source": [
    "### Version instrumentée avec affichage du tableau des positions "
   ]
  },
  {
   "cell_type": "code",
   "execution_count": 14,
   "metadata": {},
   "outputs": [],
   "source": [
    "def binaryIterGrayInst(n):\n",
    "    gr  = [0]*n\n",
    "    pos = range(n+1)\n",
    "    c   = 0\n",
    "    yield gr\n",
    "    while pos[0] != n:\n",
    "        i = pos[0]\n",
    "        print (c.digits(2, padto=n)[::-1], \n",
    "               pos[n-1::-1], i, gr[::-1])\n",
    "        c += 1\n",
    "        gr[i] = 1 - gr[i]\n",
    "        pos[0] = 0\n",
    "        pos[i] = pos[i+1]\n",
    "        pos[i+1] = i+1\n",
    "        yield gr  ### Version instrumentée"
   ]
  },
  {
   "cell_type": "code",
   "execution_count": null,
   "metadata": {},
   "outputs": [],
   "source": []
  },
  {
   "cell_type": "code",
   "execution_count": 15,
   "metadata": {},
   "outputs": [
    {
     "name": "stdout",
     "output_type": "stream",
     "text": [
      "([0, 0, 0, 0], [3, 2, 1, 0], 0, [0, 0, 0, 0])\n",
      "([0, 0, 0, 1], [3, 2, 1, 1], 1, [0, 0, 0, 1])\n",
      "([0, 0, 1, 0], [3, 2, 2, 0], 0, [0, 0, 1, 1])\n",
      "([0, 0, 1, 1], [3, 2, 1, 2], 2, [0, 0, 1, 0])\n",
      "([0, 1, 0, 0], [3, 3, 1, 0], 0, [0, 1, 1, 0])\n",
      "([0, 1, 0, 1], [3, 3, 1, 1], 1, [0, 1, 1, 1])\n",
      "([0, 1, 1, 0], [3, 2, 3, 0], 0, [0, 1, 0, 1])\n",
      "([0, 1, 1, 1], [3, 2, 1, 3], 3, [0, 1, 0, 0])\n",
      "([1, 0, 0, 0], [4, 2, 1, 0], 0, [1, 1, 0, 0])\n",
      "([1, 0, 0, 1], [4, 2, 1, 1], 1, [1, 1, 0, 1])\n",
      "([1, 0, 1, 0], [4, 2, 2, 0], 0, [1, 1, 1, 1])\n",
      "([1, 0, 1, 1], [4, 2, 1, 2], 2, [1, 1, 1, 0])\n",
      "([1, 1, 0, 0], [3, 4, 1, 0], 0, [1, 0, 1, 0])\n",
      "([1, 1, 0, 1], [3, 4, 1, 1], 1, [1, 0, 1, 1])\n",
      "([1, 1, 1, 0], [3, 2, 4, 0], 0, [1, 0, 0, 1])\n"
     ]
    }
   ],
   "source": [
    "l = list(binaryIterGrayInst(4))"
   ]
  },
  {
   "cell_type": "code",
   "execution_count": null,
   "metadata": {},
   "outputs": [],
   "source": []
  },
  {
   "cell_type": "markdown",
   "metadata": {},
   "source": [
    "# permutations \n",
    "\n",
    "Voir https://en.wikipedia.org/wiki/Steinhaus%E2%80%93Johnson%E2%80%93Trotter_algorithm"
   ]
  },
  {
   "cell_type": "code",
   "execution_count": 16,
   "metadata": {},
   "outputs": [],
   "source": [
    "def Changes(n):\n",
    "    if n < 1:\n",
    "        return\n",
    "    up = range(n-1)\n",
    "    down = range(n-2,-1,-1)\n",
    "    recur = Changes(n-1)\n",
    "    while True:\n",
    "        for x in down:\n",
    "            yield x\n",
    "        yield next(recur) + 1\n",
    "        for x in up:\n",
    "            yield x\n",
    "        yield next(recur)\n",
    "\n",
    "def SJT(x):\n",
    "    try:\n",
    "        perm = list(x)\n",
    "    except:\n",
    "        perm = list(range(x))\n",
    "    n = len(perm)\n",
    "\n",
    "\n",
    "    yield perm\n",
    "    for x in Changes(n):\n",
    "        perm[x],perm[x+1] = perm[x+1],perm[x]\n",
    "        yield perm\n"
   ]
  },
  {
   "cell_type": "code",
   "execution_count": 17,
   "metadata": {
    "scrolled": true
   },
   "outputs": [
    {
     "data": {
      "text/plain": [
       "[]"
      ]
     },
     "execution_count": 17,
     "metadata": {},
     "output_type": "execute_result"
    }
   ],
   "source": [
    "list(Changes(1))"
   ]
  },
  {
   "cell_type": "code",
   "execution_count": 18,
   "metadata": {},
   "outputs": [
    {
     "data": {
      "text/plain": [
       "[0]"
      ]
     },
     "execution_count": 18,
     "metadata": {},
     "output_type": "execute_result"
    }
   ],
   "source": [
    "list(Changes(2))"
   ]
  },
  {
   "cell_type": "code",
   "execution_count": 19,
   "metadata": {},
   "outputs": [
    {
     "data": {
      "text/plain": [
       "[1, 0, 1, 0, 1]"
      ]
     },
     "execution_count": 19,
     "metadata": {},
     "output_type": "execute_result"
    }
   ],
   "source": [
    "list(Changes(3))"
   ]
  },
  {
   "cell_type": "code",
   "execution_count": 20,
   "metadata": {},
   "outputs": [
    {
     "data": {
      "text/plain": [
       "[2, 1, 0, 2, 0, 1, 2, 0, 2, 1, 0, 2, 0, 1, 2, 0, 2, 1, 0, 2, 0, 1, 2]"
      ]
     },
     "execution_count": 20,
     "metadata": {},
     "output_type": "execute_result"
    }
   ],
   "source": [
    "list(Changes(4))"
   ]
  },
  {
   "cell_type": "code",
   "execution_count": 21,
   "metadata": {},
   "outputs": [
    {
     "data": {
      "text/plain": [
       "[[1, 2, 3, 4],\n",
       " [1, 2, 4, 3],\n",
       " [1, 4, 2, 3],\n",
       " [4, 1, 2, 3],\n",
       " [4, 1, 3, 2],\n",
       " [1, 4, 3, 2],\n",
       " [1, 3, 4, 2],\n",
       " [1, 3, 2, 4],\n",
       " [3, 1, 2, 4],\n",
       " [3, 1, 4, 2],\n",
       " [3, 4, 1, 2],\n",
       " [4, 3, 1, 2],\n",
       " [4, 3, 2, 1],\n",
       " [3, 4, 2, 1],\n",
       " [3, 2, 4, 1],\n",
       " [3, 2, 1, 4],\n",
       " [2, 3, 1, 4],\n",
       " [2, 3, 4, 1],\n",
       " [2, 4, 3, 1],\n",
       " [4, 2, 3, 1],\n",
       " [4, 2, 1, 3],\n",
       " [2, 4, 1, 3],\n",
       " [2, 1, 4, 3],\n",
       " [2, 1, 3, 4]]"
      ]
     },
     "execution_count": 21,
     "metadata": {},
     "output_type": "execute_result"
    }
   ],
   "source": [
    "L = [list(p) for p in SJT([1,2,3,4])]\n",
    "L"
   ]
  },
  {
   "cell_type": "code",
   "execution_count": 22,
   "metadata": {},
   "outputs": [
    {
     "data": {
      "text/plain": [
       "[[[1, 2, 3, 4], [1, 2, 4, 3], [1, 4, 2, 3], [4, 1, 2, 3]],\n",
       " [[4, 1, 3, 2], [1, 4, 3, 2], [1, 3, 4, 2], [1, 3, 2, 4]],\n",
       " [[3, 1, 2, 4], [3, 1, 4, 2], [3, 4, 1, 2], [4, 3, 1, 2]],\n",
       " [[4, 3, 2, 1], [3, 4, 2, 1], [3, 2, 4, 1], [3, 2, 1, 4]],\n",
       " [[2, 3, 1, 4], [2, 3, 4, 1], [2, 4, 3, 1], [4, 2, 3, 1]],\n",
       " [[4, 2, 1, 3], [2, 4, 1, 3], [2, 1, 4, 3], [2, 1, 3, 4]]]"
      ]
     },
     "execution_count": 22,
     "metadata": {},
     "output_type": "execute_result"
    }
   ],
   "source": [
    "[L[4*i:4*i+4] for i in range(6)]"
   ]
  },
  {
   "cell_type": "code",
   "execution_count": null,
   "metadata": {},
   "outputs": [],
   "source": []
  },
  {
   "cell_type": "code",
   "execution_count": null,
   "metadata": {},
   "outputs": [],
   "source": []
  }
 ],
 "metadata": {
  "kernelspec": {
   "display_name": "SageMath 8.8.rc2",
   "language": "sage",
   "name": "sagemath"
  },
  "language": "python",
  "language_info": {
   "codemirror_mode": {
    "name": "ipython",
    "version": 2
   },
   "file_extension": ".py",
   "mimetype": "text/x-python",
   "name": "python",
   "nbconvert_exporter": "python",
   "pygments_lexer": "ipython2",
   "version": "2.7.15"
  }
 },
 "nbformat": 4,
 "nbformat_minor": 2
}
