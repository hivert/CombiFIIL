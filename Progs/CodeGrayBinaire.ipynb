{
 "cells": [
  {
   "cell_type": "markdown",
   "metadata": {},
   "source": [
    "# Code de Gray pour les mots binaires"
   ]
  },
  {
   "cell_type": "code",
   "execution_count": 1,
   "metadata": {
    "collapsed": true
   },
   "outputs": [],
   "source": [
    "class binaryIterGray(object):\n",
    "    def __init__(self, n):\n",
    "        self._n = n\n",
    "        self._g = [0]*n\n",
    "        self._t = range(n+1)\n",
    "    def __iter__(self):\n",
    "        return self\n",
    "    def next(self):\n",
    "        i = self._t[0]\n",
    "        if i == self._n:\n",
    "            raise StopIteration\n",
    "        self._g[i] = 1-self._g[i]\n",
    "        self._t[0] = 0\n",
    "        self._t[i] = self._t[i+1]\n",
    "        self._t[i+1] = i+1\n",
    "    def get(self):\n",
    "        return self._g"
   ]
  },
  {
   "cell_type": "code",
   "execution_count": null,
   "metadata": {
    "collapsed": true
   },
   "outputs": [],
   "source": []
  },
  {
   "cell_type": "markdown",
   "metadata": {},
   "source": [
    "### Attention, il faut copier la liste"
   ]
  },
  {
   "cell_type": "code",
   "execution_count": 2,
   "metadata": {
    "collapsed": false
   },
   "outputs": [],
   "source": [
    "def listGrayBug(n):\n",
    "    it = binaryIterGray(n)\n",
    "    res = [it.get()]\n",
    "    for _ in it:\n",
    "        res.append(it.get())\n",
    "    return res"
   ]
  },
  {
   "cell_type": "code",
   "execution_count": 3,
   "metadata": {
    "collapsed": false
   },
   "outputs": [
    {
     "data": {
      "text/plain": [
       "[[0, 0, 1],\n",
       " [0, 0, 1],\n",
       " [0, 0, 1],\n",
       " [0, 0, 1],\n",
       " [0, 0, 1],\n",
       " [0, 0, 1],\n",
       " [0, 0, 1],\n",
       " [0, 0, 1]]"
      ]
     },
     "execution_count": 3,
     "metadata": {},
     "output_type": "execute_result"
    }
   ],
   "source": [
    "listGrayBug(3)"
   ]
  },
  {
   "cell_type": "code",
   "execution_count": null,
   "metadata": {
    "collapsed": false
   },
   "outputs": [],
   "source": []
  },
  {
   "cell_type": "markdown",
   "metadata": {},
   "source": [
    "### Version correcte"
   ]
  },
  {
   "cell_type": "code",
   "execution_count": 4,
   "metadata": {
    "collapsed": false
   },
   "outputs": [],
   "source": [
    "def listGray(n):\n",
    "    it = binaryIterGray(n)\n",
    "    res = [list(it.get())]\n",
    "    for _ in it:\n",
    "        res.append(list(it.get()))\n",
    "    return res"
   ]
  },
  {
   "cell_type": "code",
   "execution_count": 5,
   "metadata": {
    "collapsed": false
   },
   "outputs": [
    {
     "data": {
      "text/plain": [
       "[[0, 0, 0],\n",
       " [1, 0, 0],\n",
       " [1, 1, 0],\n",
       " [0, 1, 0],\n",
       " [0, 1, 1],\n",
       " [1, 1, 1],\n",
       " [1, 0, 1],\n",
       " [0, 0, 1]]"
      ]
     },
     "execution_count": 5,
     "metadata": {},
     "output_type": "execute_result"
    }
   ],
   "source": [
    "listGray(3)"
   ]
  },
  {
   "cell_type": "code",
   "execution_count": null,
   "metadata": {
    "collapsed": false
   },
   "outputs": [],
   "source": []
  },
  {
   "cell_type": "markdown",
   "metadata": {},
   "source": [
    "### Version instrumentée"
   ]
  },
  {
   "cell_type": "code",
   "execution_count": 6,
   "metadata": {
    "collapsed": false
   },
   "outputs": [],
   "source": [
    "class binaryIterGrayInst(object):\n",
    "    def __init__(self, n):\n",
    "        self._n = n\n",
    "        self._g = [0]*n\n",
    "        self._t = range(n+1)\n",
    "        self._c = 0\n",
    "    def __iter__(self):\n",
    "        return self\n",
    "    def next(self):\n",
    "        i = self._t[0]\n",
    "        \n",
    "        print self._c.digits(2, padto=self._n)[::-1], self._t[::-1], i, self._g[::-1]\n",
    "\n",
    "        if i == self._n:\n",
    "            raise StopIteration\n",
    "\n",
    "        self._c += 1\n",
    "        \n",
    "        self._g[i] = 1-self._g[i]\n",
    "        self._t[0] = 0\n",
    "        self._t[i] = self._t[i+1]\n",
    "        self._t[i+1] = i+1\n",
    "        \n",
    "    def get(self):\n",
    "        return self._g"
   ]
  },
  {
   "cell_type": "code",
   "execution_count": 7,
   "metadata": {
    "collapsed": false
   },
   "outputs": [
    {
     "name": "stdout",
     "output_type": "stream",
     "text": [
      "[0, 0, 0, 0] [4, 3, 2, 1, 0] 0 [0, 0, 0, 0]\n",
      "[0, 0, 0, 1] [4, 3, 2, 1, 1] 1 [0, 0, 0, 1]\n",
      "[0, 0, 1, 0] [4, 3, 2, 2, 0] 0 [0, 0, 1, 1]\n",
      "[0, 0, 1, 1] [4, 3, 2, 1, 2] 2 [0, 0, 1, 0]\n",
      "[0, 1, 0, 0] [4, 3, 3, 1, 0] 0 [0, 1, 1, 0]\n",
      "[0, 1, 0, 1] [4, 3, 3, 1, 1] 1 [0, 1, 1, 1]\n",
      "[0, 1, 1, 0] [4, 3, 2, 3, 0] 0 [0, 1, 0, 1]\n",
      "[0, 1, 1, 1] [4, 3, 2, 1, 3] 3 [0, 1, 0, 0]\n",
      "[1, 0, 0, 0] [4, 4, 2, 1, 0] 0 [1, 1, 0, 0]\n",
      "[1, 0, 0, 1] [4, 4, 2, 1, 1] 1 [1, 1, 0, 1]\n",
      "[1, 0, 1, 0] [4, 4, 2, 2, 0] 0 [1, 1, 1, 1]\n",
      "[1, 0, 1, 1] [4, 4, 2, 1, 2] 2 [1, 1, 1, 0]\n",
      "[1, 1, 0, 0] [4, 3, 4, 1, 0] 0 [1, 0, 1, 0]\n",
      "[1, 1, 0, 1] [4, 3, 4, 1, 1] 1 [1, 0, 1, 1]\n",
      "[1, 1, 1, 0] [4, 3, 2, 4, 0] 0 [1, 0, 0, 1]\n",
      "[1, 1, 1, 1] [4, 3, 2, 1, 4] 4 [1, 0, 0, 0]\n"
     ]
    }
   ],
   "source": [
    "l = list(binaryIterGrayInst(4))"
   ]
  },
  {
   "cell_type": "code",
   "execution_count": null,
   "metadata": {
    "collapsed": false
   },
   "outputs": [],
   "source": []
  },
  {
   "cell_type": "markdown",
   "metadata": {},
   "source": [
    "# permutations "
   ]
  },
  {
   "cell_type": "code",
   "execution_count": 8,
   "metadata": {
    "collapsed": true
   },
   "outputs": [],
   "source": [
    "def Changes(n):\n",
    "    if n < 1:\n",
    "        return\n",
    "    up = range(n-1)\n",
    "    down = range(n-2,-1,-1)\n",
    "    recur = Changes(n-1)\n",
    "    while True:\n",
    "        for x in down:\n",
    "            yield x\n",
    "        yield next(recur) + 1\n",
    "        for x in up:\n",
    "            yield x\n",
    "        yield next(recur)\n",
    "\n",
    "def SJT(x):\n",
    "    try:\n",
    "        perm = list(x)\n",
    "    except:\n",
    "        perm = list(range(x))\n",
    "    n = len(perm)\n",
    "\n",
    "\n",
    "    yield perm\n",
    "    for x in Changes(n):\n",
    "        perm[x],perm[x+1] = perm[x+1],perm[x]\n",
    "        yield perm\n"
   ]
  },
  {
   "cell_type": "code",
   "execution_count": 9,
   "metadata": {
    "collapsed": false
   },
   "outputs": [
    {
     "data": {
      "text/plain": [
       "[2, 1, 0, 2, 0, 1, 2, 0, 2, 1, 0, 2, 0, 1, 2, 0, 2, 1, 0, 2, 0, 1, 2]"
      ]
     },
     "execution_count": 9,
     "metadata": {},
     "output_type": "execute_result"
    }
   ],
   "source": [
    "list(Changes(4))"
   ]
  },
  {
   "cell_type": "code",
   "execution_count": 10,
   "metadata": {
    "collapsed": false
   },
   "outputs": [],
   "source": [
    "L = [list(p) for p in SJT([1,2,3,4])]"
   ]
  },
  {
   "cell_type": "code",
   "execution_count": 11,
   "metadata": {
    "collapsed": false
   },
   "outputs": [
    {
     "data": {
      "text/plain": [
       "[[[1, 2, 3, 4], [1, 2, 4, 3], [1, 4, 2, 3], [4, 1, 2, 3]],\n",
       " [[4, 1, 3, 2], [1, 4, 3, 2], [1, 3, 4, 2], [1, 3, 2, 4]],\n",
       " [[3, 1, 2, 4], [3, 1, 4, 2], [3, 4, 1, 2], [4, 3, 1, 2]],\n",
       " [[4, 3, 2, 1], [3, 4, 2, 1], [3, 2, 4, 1], [3, 2, 1, 4]],\n",
       " [[2, 3, 1, 4], [2, 3, 4, 1], [2, 4, 3, 1], [4, 2, 3, 1]],\n",
       " [[4, 2, 1, 3], [2, 4, 1, 3], [2, 1, 4, 3], [2, 1, 3, 4]]]"
      ]
     },
     "execution_count": 11,
     "metadata": {},
     "output_type": "execute_result"
    }
   ],
   "source": [
    "[L[4*i:4*i+4] for i in range(6)]"
   ]
  },
  {
   "cell_type": "code",
   "execution_count": null,
   "metadata": {
    "collapsed": true
   },
   "outputs": [],
   "source": []
  }
 ],
 "metadata": {
  "kernelspec": {
   "display_name": "SageMath 7.6.rc0",
   "language": "",
   "name": "sagemath"
  },
  "language": "python",
  "language_info": {
   "codemirror_mode": {
    "name": "ipython",
    "version": 2
   },
   "file_extension": ".py",
   "mimetype": "text/x-python",
   "name": "python",
   "nbconvert_exporter": "python",
   "pygments_lexer": "ipython2",
   "version": "2.7.13"
  }
 },
 "nbformat": 4,
 "nbformat_minor": 2
}
